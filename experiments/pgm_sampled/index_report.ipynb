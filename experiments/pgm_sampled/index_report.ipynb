{
 "cells": [
  {
   "cell_type": "code",
   "execution_count": 52,
   "metadata": {},
   "outputs": [
    {
     "name": "stdout",
     "output_type": "stream",
     "text": [
      "Index(['index_build_duration', 'index_load_duration', 'index_name',\n",
      "       'index_size', 'dataset'],\n",
      "      dtype='object')\n"
     ]
    }
   ],
   "source": [
    "import os;\n",
    "import json;\n",
    "import builtins\n",
    "import duckdb\n",
    "import pandas as pd;\n",
    "import matplotlib.pyplot as plt\n",
    "import numpy as np\n",
    "\n",
    "def get_dataset_from_testcase(run):\n",
    "    return run[6:-2]\n",
    "\n",
    "dir = '/home/chesetti/Repos/learned_merge_cleanup/sponge/pgm_sampled_debug'\n",
    "index_stats = []\n",
    "for test_case in os.listdir(dir):\n",
    "    if test_case == 'build':\n",
    "        continue\n",
    "    for run_name in os.listdir(os.path.join(dir, test_case, 'input_results', 'run')):\n",
    "        json_file = builtins.open(os.path.join(dir, test_case, 'input_results', 'run', run_name))\n",
    "        run = (json.load(json_file))\n",
    "        if 'index_stats' not in run['result']:\n",
    "            continue\n",
    "        for run_index_stats in run['result']['index_stats']:\n",
    "            run_index_stats['dataset'] = get_dataset_from_testcase(test_case)\n",
    "            index_stats.append(run_index_stats)\n",
    "idf = pd.json_normalize(index_stats)\n",
    "print(idf.columns)"
   ]
  },
  {
   "cell_type": "code",
   "execution_count": 53,
   "metadata": {},
   "outputs": [
    {
     "name": "stdout",
     "output_type": "stream",
     "text": [
      "┌──────────────────────┬─────────────────────┬─────────────┬────────────┬─────────┬─────────┬─────────────┐\n",
      "│ index_build_duration │ index_load_duration │ index_name  │ index_size │ dataset │ epsilon │ index_type  │\n",
      "│        int64         │        int64        │   varchar   │   int64    │ varchar │  int64  │   varchar   │\n",
      "├──────────────────────┼─────────────────────┼─────────────┼────────────┼─────────┼─────────┼─────────────┤\n",
      "│              3940440 │           183833035 │ sampledPgm  │       1112 │ fb      │    6400 │ SAMPLED_PGM │\n",
      "│            585667926 │           235303338 │ pgm256      │     194376 │ fb      │     256 │ PGM         │\n",
      "│            475671605 │           232060569 │ pgm1024     │      16768 │ fb      │    1024 │ PGM         │\n",
      "│            438000421 │           282731222 │ pgm2048     │       4576 │ fb      │    2048 │ PGM         │\n",
      "│            590052782 │           293945725 │ flatpgm256  │     193680 │ fb      │     256 │ FLAT_PGM    │\n",
      "│            474082307 │           293650178 │ flatpgm1024 │      16608 │ fb      │    1024 │ FLAT_PGM    │\n",
      "│            437044414 │           294162109 │ flatpgm2048 │       4448 │ fb      │    2048 │ FLAT_PGM    │\n",
      "│            408469470 │           296079411 │ flatpgm4096 │       1104 │ fb      │    4096 │ FLAT_PGM    │\n",
      "│            400021339 │           296160888 │ flatpgm8192 │        320 │ fb      │    8192 │ FLAT_PGM    │\n",
      "│               184388 │           187035685 │ btree256    │    1211256 │ fb      │     256 │ BTREE       │\n",
      "│                48635 │           185989326 │ btree1024   │     304872 │ fb      │    1024 │ BTREE       │\n",
      "│                22728 │           184120804 │ btree2048   │     156552 │ fb      │    2048 │ BTREE       │\n",
      "├──────────────────────┴─────────────────────┴─────────────┴────────────┴─────────┴─────────┴─────────────┤\n",
      "│ 12 rows                                                                                       7 columns │\n",
      "└─────────────────────────────────────────────────────────────────────────────────────────────────────────┘\n",
      "\n"
     ]
    }
   ],
   "source": [
    "epsilon = {\n",
    "    \"sampledPgm\": 16 * 128 * 2,\n",
    "    \"pgm256\": 256,\n",
    "    \"pgm1024\": 1024,\n",
    "    \"pgm2048\": 2048,\n",
    "    \"flatpgm256\": 256,\n",
    "    \"flatpgm1024\": 1024,\n",
    "    \"flatpgm2048\": 2048,\n",
    "    \"flatpgm4096\": 4096,\n",
    "    \"flatpgm8192\": 8192,\n",
    "    \"hashjoin\": 0,\n",
    "    \"btree256\": 256,\n",
    "    \"btree1024\": 1024,\n",
    "    \"btree2048\": 2048,\n",
    "    \"sj\": 0,\n",
    "    \"sj2\": 0,\n",
    "    \"standard_merge\": 0\n",
    "};\n",
    "def indexType(x):\n",
    "    if \"sampledPgm\" in x:\n",
    "        return \"SAMPLED_PGM\"\n",
    "    elif \"flatpgm\" in x:\n",
    "        return \"FLAT_PGM\"\n",
    "    elif \"pgm\" in x:\n",
    "        return \"PGM\"\n",
    "    elif \"btree\" in x:\n",
    "        return \"BTREE\"\n",
    "    return \"NA\"\n",
    "idf['epsilon'] = idf['index_name'].map(lambda x: epsilon[x])\n",
    "idf['index_type'] = idf['index_name'].map(lambda x: indexType(x))\n",
    "# Per dataset\n",
    "rows = duckdb.sql('SELECT * FROM idf')\n",
    "print(rows)\n"
   ]
  },
  {
   "cell_type": "code",
   "execution_count": 54,
   "metadata": {},
   "outputs": [
    {
     "data": {
      "text/plain": [
       "┌────────────┬──────────────────────┬────────────┐\n",
       "│ index_name │ index_build_duration │ index_size │\n",
       "│  varchar   │        int64         │   int64    │\n",
       "├────────────┼──────────────────────┼────────────┤\n",
       "│ pgm256     │            585667926 │     194376 │\n",
       "│ pgm1024    │            475671605 │      16768 │\n",
       "│ pgm2048    │            438000421 │       4576 │\n",
       "│ sampledPgm │              3940440 │       1112 │\n",
       "│ btree256   │               184388 │    1211256 │\n",
       "│ btree1024  │                48635 │     304872 │\n",
       "│ btree2048  │                22728 │     156552 │\n",
       "└────────────┴──────────────────────┴────────────┘"
      ]
     },
     "execution_count": 54,
     "metadata": {},
     "output_type": "execute_result"
    }
   ],
   "source": [
    "duckdb.sql(\"SELECT index_name, index_build_duration, index_size FROM idf \" \n",
    "\"WHERE index_type=='PGM' OR index_type=='SAMPLED_PGM' OR index_type=='BTREE'\")"
   ]
  }
 ],
 "metadata": {
  "kernelspec": {
   "display_name": "Python 3 (ipykernel)",
   "language": "python",
   "name": "python3"
  },
  "language_info": {
   "codemirror_mode": {
    "name": "ipython",
    "version": 3
   },
   "file_extension": ".py",
   "mimetype": "text/x-python",
   "name": "python",
   "nbconvert_exporter": "python",
   "pygments_lexer": "ipython3",
   "version": "3.8.10"
  },
  "orig_nbformat": 4
 },
 "nbformat": 4,
 "nbformat_minor": 2
}
