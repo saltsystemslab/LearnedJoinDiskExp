{
 "cells": [
  {
   "cell_type": "code",
   "execution_count": 17,
   "metadata": {},
   "outputs": [
    {
     "name": "stdout",
     "output_type": "stream",
     "text": [
      "Index(['command', 'dataset', 'result.checksum', 'result.duration_ns',\n",
      "       'result.duration_sec', 'result.inner_disk_fetch',\n",
      "       'result.inner_disk_fetch_size', 'result.inner_total_bytes_fetched',\n",
      "       'result.outer_disk_fetch', 'result.outer_disk_fetch_size',\n",
      "       'result.outer_total_bytes_fetched', 'spec.algo', 'spec.algo_name',\n",
      "       'spec.check_checksum', 'spec.common_key', 'spec.index.search',\n",
      "       'spec.index.type', 'spec.inner_table', 'spec.key_size', 'spec.key_type',\n",
      "       'spec.load_sstable_in_mem', 'spec.name', 'spec.num_threads',\n",
      "       'spec.outer_table', 'spec.result_path', 'spec.value_size',\n",
      "       'spec.write_result_to_disk'],\n",
      "      dtype='object')\n"
     ]
    }
   ],
   "source": [
    "import os;\n",
    "import json;\n",
    "import builtins\n",
    "import duckdb\n",
    "import pandas as pd;\n",
    "import matplotlib.pyplot as plt\n",
    "import numpy as np\n",
    "\n",
    "def get_dataset_from_testcase(run):\n",
    "    return run[6:-2]\n",
    "\n",
    "dir = '/home/chesetti/Repos/learned_merge_cleanup/sponge/pgm_vs_flat_debug'\n",
    "runs = []\n",
    "index_stats = []\n",
    "for test_case in os.listdir(dir):\n",
    "    if test_case == 'build':\n",
    "        continue\n",
    "    for run_name in os.listdir(os.path.join(dir, test_case, 'outputs', 'results', 'run')):\n",
    "        json_file = builtins.open(os.path.join(dir, test_case, 'outputs', 'results', 'run', run_name))\n",
    "        run = (json.load(json_file))\n",
    "        run['dataset'] = get_dataset_from_testcase(test_case)\n",
    "        runs.append(run)\n",
    "        runs.append(run)\n",
    "df = pd.json_normalize(runs)\n",
    "print(df.columns)"
   ]
  },
  {
   "cell_type": "code",
   "execution_count": 18,
   "metadata": {},
   "outputs": [
    {
     "data": {
      "text/plain": [
       "┌───────┬─────────┬──────────────────────────┐\n",
       "│ ratio │ dataset │ count(DISTINCT checksum) │\n",
       "│ int64 │ varchar │          int64           │\n",
       "├───────┼─────────┼──────────────────────────┤\n",
       "│     1 │ fb      │                        1 │\n",
       "│    10 │ fb      │                        1 │\n",
       "│   100 │ fb      │                        1 │\n",
       "│  1000 │ fb      │                        1 │\n",
       "└───────┴─────────┴──────────────────────────┘"
      ]
     },
     "execution_count": 18,
     "metadata": {},
     "output_type": "execute_result"
    }
   ],
   "source": [
    "df[\"ratio\"] = df[\"spec.common_key\"]\n",
    "df[\"algo\"] = df[\"spec.algo_name\"]\n",
    "df[\"checksum\"] = df[\"result.checksum\"]\n",
    "\n",
    "duckdb.sql(\n",
    "    \"SELECT ratio, dataset, COUNT (DISTINCT checksum) \"\n",
    "    \"FROM df group by ratio, dataset \"\n",
    "    \"ORDER BY ratio\"\n",
    ")"
   ]
  },
  {
   "cell_type": "code",
   "execution_count": null,
   "metadata": {},
   "outputs": [],
   "source": []
  },
  {
   "cell_type": "code",
   "execution_count": null,
   "metadata": {},
   "outputs": [],
   "source": []
  }
 ],
 "metadata": {
  "kernelspec": {
   "display_name": "Python 3",
   "language": "python",
   "name": "python3"
  },
  "language_info": {
   "codemirror_mode": {
    "name": "ipython",
    "version": 3
   },
   "file_extension": ".py",
   "mimetype": "text/x-python",
   "name": "python",
   "nbconvert_exporter": "python",
   "pygments_lexer": "ipython3",
   "version": "3.8.10"
  },
  "orig_nbformat": 4
 },
 "nbformat": 4,
 "nbformat_minor": 2
}
