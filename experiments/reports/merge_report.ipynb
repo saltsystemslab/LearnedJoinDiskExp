{
 "cells": [
  {
   "cell_type": "code",
   "execution_count": 20,
   "metadata": {},
   "outputs": [
    {
     "name": "stdout",
     "output_type": "stream",
     "text": [
      "Index(['command', 'dataset', 'dataset_size', 'result.checksum',\n",
      "       'result.duration_ns', 'result.duration_sec', 'result.inner_disk_fetch',\n",
      "       'result.inner_disk_fetch_size', 'result.inner_total_bytes_fetched',\n",
      "       'result.num_output_keys', 'result.outer_disk_fetch',\n",
      "       'result.outer_disk_fetch_size', 'result.outer_total_bytes_fetched',\n",
      "       'spec.algo', 'spec.algo_name', 'spec.check_checksum', 'spec.common_key',\n",
      "       'spec.inner_table', 'spec.key_size', 'spec.key_type',\n",
      "       'spec.load_sstable_in_mem', 'spec.name', 'spec.num_threads',\n",
      "       'spec.outer_table', 'spec.result_path', 'spec.value_size',\n",
      "       'spec.write_result_to_disk', 'spec.index.epsilon',\n",
      "       'spec.index.leaf_size_in_pages', 'spec.index.search',\n",
      "       'spec.index.type'],\n",
      "      dtype='object')\n"
     ]
    }
   ],
   "source": [
    "import os;\n",
    "import json;\n",
    "import builtins\n",
    "import duckdb\n",
    "import pandas as pd;\n",
    "import matplotlib.pyplot as plt\n",
    "\n",
    "\n",
    "def get_dataset_from_testcase(run):\n",
    "    run = index.find(\"_\")\n",
    "    return run[0:run-1]\n",
    "\n",
    "def get_dataset_size(dataset):\n",
    "    if dataset == \"string_keys\":\n",
    "        return 100_000_000\n",
    "    if dataset == \"osm\" or dataset == \"books\":\n",
    "        return 800_000_000\n",
    "    else:\n",
    "        return 200_000_000\n",
    "\n",
    "runs = []\n",
    "dir = '/home/chesetti/Repos/learned_merge_cleanup/sponge/merge_all'\n",
    "for test_case in os.listdir(dir):\n",
    "    if test_case == 'build':\n",
    "        continue\n",
    "    for run_name in os.listdir(os.path.join(dir, test_case, 'outputs', 'results' )):\n",
    "        if run_name == 'run':\n",
    "            continue\n",
    "        json_file = builtins.open(os.path.join(dir, test_case, 'outputs', 'results', run_name))\n",
    "        run = (json.load(json_file))\n",
    "        run['dataset'] = get_dataset_from_testcase(test_case)\n",
    "        run['dataset_size'] = get_dataset_size(run['dataset'])\n",
    "        runs.append(run)\n",
    "\n",
    "df = pd.json_normalize(runs)\n",
    "print(df.columns)"
   ]
  },
  {
   "cell_type": "code",
   "execution_count": 21,
   "metadata": {
    "scrolled": true
   },
   "outputs": [
    {
     "data": {
      "text/plain": [
       "array(['standard_merge', 'learned_merge_btree256',\n",
       "       'learned_merge_sampledflatpgm256'], dtype=object)"
      ]
     },
     "metadata": {},
     "output_type": "display_data"
    },
    {
     "data": {
      "text/plain": [
       "array(['fb', 'fb_', 'books', 'osm', 'wiki'], dtype=object)"
      ]
     },
     "metadata": {},
     "output_type": "display_data"
    },
    {
     "data": {
      "text/plain": [
       "array(['NA', 'BTREE', 'PGM'], dtype=object)"
      ]
     },
     "metadata": {},
     "output_type": "display_data"
    }
   ],
   "source": [
    "def get_index_type(index):\n",
    "    if \"btree\" in index:\n",
    "        return \"BTREE\"\n",
    "    if \"pgm\" in index:\n",
    "        return \"PGM\"\n",
    "    return \"NA\"\n",
    "\n",
    "def get_index_variant(index):\n",
    "    if index == \"sort_join\" or index == \"hash_join\":\n",
    "        return \"NA\"\n",
    "    pos = index.find(\"_\")\n",
    "    return index[pos+1:-1]\n",
    "\n",
    "df[\"threads\"] = df[\"spec.num_threads\"]\n",
    "df[\"epsilon\"] = df[\"spec.index.epsilon\"]\n",
    "df[\"duration_sec\"] = df[\"result.duration_ns\"] / (1000000000)\n",
    "df[\"ratio\"] = df[\"spec.common_key\"]\n",
    "df[\"thput\"] = (df[\"result.num_output_keys\"] / df[\"ratio\"]) / (df[\"result.duration_ns\"] / (1000000000))\n",
    "df[\"algo\"] = df[\"spec.algo_name\"]\n",
    "df[\"join_algo\"] = df[\"spec.algo\"]\n",
    "df[\"index_type\"] = df[\"spec.algo_name\"].map(lambda x: get_index_type(x))\n",
    "df[\"index_variant\"] = df[\"spec.algo_name\"].map(lambda x: get_index_variant(x))\n",
    "df[\"inner_bytes_fetched\"] = df[\"result.inner_total_bytes_fetched\"]\n",
    "display(df[\"algo\"].unique())\n",
    "display(df[\"dataset\"].unique())\n",
    "display(df[\"index_type\"].unique())\n"
   ]
  },
  {
   "cell_type": "code",
   "execution_count": 16,
   "metadata": {},
   "outputs": [
    {
     "data": {
      "text/plain": [
       "'fb'"
      ]
     },
     "metadata": {},
     "output_type": "display_data"
    },
    {
     "data": {
      "text/html": [
       "<div>\n",
       "<style scoped>\n",
       "    .dataframe tbody tr th:only-of-type {\n",
       "        vertical-align: middle;\n",
       "    }\n",
       "\n",
       "    .dataframe tbody tr th {\n",
       "        vertical-align: top;\n",
       "    }\n",
       "\n",
       "    .dataframe thead th {\n",
       "        text-align: right;\n",
       "    }\n",
       "</style>\n",
       "<table border=\"1\" class=\"dataframe\">\n",
       "  <thead>\n",
       "    <tr style=\"text-align: right;\">\n",
       "      <th>algo</th>\n",
       "      <th>learned_merge_btree256</th>\n",
       "      <th>learned_merge_sampledflatpgm256</th>\n",
       "      <th>standard_merge</th>\n",
       "    </tr>\n",
       "    <tr>\n",
       "      <th>ratio</th>\n",
       "      <th></th>\n",
       "      <th></th>\n",
       "      <th></th>\n",
       "    </tr>\n",
       "  </thead>\n",
       "  <tbody>\n",
       "    <tr>\n",
       "      <th>1</th>\n",
       "      <td>54.389202</td>\n",
       "      <td>24.055351</td>\n",
       "      <td>12.942572</td>\n",
       "    </tr>\n",
       "    <tr>\n",
       "      <th>10</th>\n",
       "      <td>8.753012</td>\n",
       "      <td>5.828777</td>\n",
       "      <td>7.435069</td>\n",
       "    </tr>\n",
       "    <tr>\n",
       "      <th>100</th>\n",
       "      <td>3.840491</td>\n",
       "      <td>3.378283</td>\n",
       "      <td>6.735534</td>\n",
       "    </tr>\n",
       "    <tr>\n",
       "      <th>1000</th>\n",
       "      <td>3.265584</td>\n",
       "      <td>3.189829</td>\n",
       "      <td>6.647478</td>\n",
       "    </tr>\n",
       "  </tbody>\n",
       "</table>\n",
       "</div>"
      ],
      "text/plain": [
       "algo   learned_merge_btree256  learned_merge_sampledflatpgm256  standard_merge\n",
       "ratio                                                                         \n",
       "1                   54.389202                        24.055351       12.942572\n",
       "10                   8.753012                         5.828777        7.435069\n",
       "100                  3.840491                         3.378283        6.735534\n",
       "1000                 3.265584                         3.189829        6.647478"
      ]
     },
     "metadata": {},
     "output_type": "display_data"
    },
    {
     "data": {
      "text/plain": [
       "'wiki'"
      ]
     },
     "metadata": {},
     "output_type": "display_data"
    },
    {
     "data": {
      "text/html": [
       "<div>\n",
       "<style scoped>\n",
       "    .dataframe tbody tr th:only-of-type {\n",
       "        vertical-align: middle;\n",
       "    }\n",
       "\n",
       "    .dataframe tbody tr th {\n",
       "        vertical-align: top;\n",
       "    }\n",
       "\n",
       "    .dataframe thead th {\n",
       "        text-align: right;\n",
       "    }\n",
       "</style>\n",
       "<table border=\"1\" class=\"dataframe\">\n",
       "  <thead>\n",
       "    <tr style=\"text-align: right;\">\n",
       "      <th>algo</th>\n",
       "      <th>learned_merge_btree256</th>\n",
       "      <th>learned_merge_sampledflatpgm256</th>\n",
       "      <th>standard_merge</th>\n",
       "    </tr>\n",
       "    <tr>\n",
       "      <th>ratio</th>\n",
       "      <th></th>\n",
       "      <th></th>\n",
       "      <th></th>\n",
       "    </tr>\n",
       "  </thead>\n",
       "  <tbody>\n",
       "    <tr>\n",
       "      <th>1</th>\n",
       "      <td>23.827476</td>\n",
       "      <td>10.851329</td>\n",
       "      <td>6.132952</td>\n",
       "    </tr>\n",
       "    <tr>\n",
       "      <th>10</th>\n",
       "      <td>6.003269</td>\n",
       "      <td>3.479737</td>\n",
       "      <td>3.990581</td>\n",
       "    </tr>\n",
       "    <tr>\n",
       "      <th>100</th>\n",
       "      <td>1.827955</td>\n",
       "      <td>1.498334</td>\n",
       "      <td>3.289609</td>\n",
       "    </tr>\n",
       "    <tr>\n",
       "      <th>1000</th>\n",
       "      <td>1.658005</td>\n",
       "      <td>1.249172</td>\n",
       "      <td>3.291058</td>\n",
       "    </tr>\n",
       "  </tbody>\n",
       "</table>\n",
       "</div>"
      ],
      "text/plain": [
       "algo   learned_merge_btree256  learned_merge_sampledflatpgm256  standard_merge\n",
       "ratio                                                                         \n",
       "1                   23.827476                        10.851329        6.132952\n",
       "10                   6.003269                         3.479737        3.990581\n",
       "100                  1.827955                         1.498334        3.289609\n",
       "1000                 1.658005                         1.249172        3.291058"
      ]
     },
     "metadata": {},
     "output_type": "display_data"
    },
    {
     "data": {
      "text/plain": [
       "'osm'"
      ]
     },
     "metadata": {},
     "output_type": "display_data"
    },
    {
     "data": {
      "text/html": [
       "<div>\n",
       "<style scoped>\n",
       "    .dataframe tbody tr th:only-of-type {\n",
       "        vertical-align: middle;\n",
       "    }\n",
       "\n",
       "    .dataframe tbody tr th {\n",
       "        vertical-align: top;\n",
       "    }\n",
       "\n",
       "    .dataframe thead th {\n",
       "        text-align: right;\n",
       "    }\n",
       "</style>\n",
       "<table border=\"1\" class=\"dataframe\">\n",
       "  <thead>\n",
       "    <tr style=\"text-align: right;\">\n",
       "      <th>algo</th>\n",
       "      <th>learned_merge_sampledflatpgm256</th>\n",
       "      <th>standard_merge</th>\n",
       "    </tr>\n",
       "    <tr>\n",
       "      <th>ratio</th>\n",
       "      <th></th>\n",
       "      <th></th>\n",
       "    </tr>\n",
       "  </thead>\n",
       "  <tbody>\n",
       "    <tr>\n",
       "      <th>1</th>\n",
       "      <td>96.327081</td>\n",
       "      <td>NaN</td>\n",
       "    </tr>\n",
       "    <tr>\n",
       "      <th>10</th>\n",
       "      <td>NaN</td>\n",
       "      <td>28.168213</td>\n",
       "    </tr>\n",
       "    <tr>\n",
       "      <th>100</th>\n",
       "      <td>12.550683</td>\n",
       "      <td>NaN</td>\n",
       "    </tr>\n",
       "    <tr>\n",
       "      <th>1000</th>\n",
       "      <td>NaN</td>\n",
       "      <td>25.435507</td>\n",
       "    </tr>\n",
       "  </tbody>\n",
       "</table>\n",
       "</div>"
      ],
      "text/plain": [
       "algo   learned_merge_sampledflatpgm256  standard_merge\n",
       "ratio                                                 \n",
       "1                            96.327081             NaN\n",
       "10                                 NaN       28.168213\n",
       "100                          12.550683             NaN\n",
       "1000                               NaN       25.435507"
      ]
     },
     "metadata": {},
     "output_type": "display_data"
    },
    {
     "data": {
      "text/plain": [
       "'books'"
      ]
     },
     "metadata": {},
     "output_type": "display_data"
    },
    {
     "data": {
      "text/html": [
       "<div>\n",
       "<style scoped>\n",
       "    .dataframe tbody tr th:only-of-type {\n",
       "        vertical-align: middle;\n",
       "    }\n",
       "\n",
       "    .dataframe tbody tr th {\n",
       "        vertical-align: top;\n",
       "    }\n",
       "\n",
       "    .dataframe thead th {\n",
       "        text-align: right;\n",
       "    }\n",
       "</style>\n",
       "<table border=\"1\" class=\"dataframe\">\n",
       "  <thead>\n",
       "    <tr style=\"text-align: right;\">\n",
       "      <th>algo</th>\n",
       "      <th>learned_merge_btree256</th>\n",
       "      <th>learned_merge_sampledflatpgm256</th>\n",
       "      <th>standard_merge</th>\n",
       "    </tr>\n",
       "    <tr>\n",
       "      <th>ratio</th>\n",
       "      <th></th>\n",
       "      <th></th>\n",
       "      <th></th>\n",
       "    </tr>\n",
       "  </thead>\n",
       "  <tbody>\n",
       "    <tr>\n",
       "      <th>1</th>\n",
       "      <td>NaN</td>\n",
       "      <td>99.355489</td>\n",
       "      <td>NaN</td>\n",
       "    </tr>\n",
       "    <tr>\n",
       "      <th>10</th>\n",
       "      <td>35.301941</td>\n",
       "      <td>NaN</td>\n",
       "      <td>28.60293</td>\n",
       "    </tr>\n",
       "    <tr>\n",
       "      <th>100</th>\n",
       "      <td>14.993839</td>\n",
       "      <td>12.290061</td>\n",
       "      <td>NaN</td>\n",
       "    </tr>\n",
       "    <tr>\n",
       "      <th>1000</th>\n",
       "      <td>11.380678</td>\n",
       "      <td>11.262972</td>\n",
       "      <td>NaN</td>\n",
       "    </tr>\n",
       "  </tbody>\n",
       "</table>\n",
       "</div>"
      ],
      "text/plain": [
       "algo   learned_merge_btree256  learned_merge_sampledflatpgm256  standard_merge\n",
       "ratio                                                                         \n",
       "1                         NaN                        99.355489             NaN\n",
       "10                  35.301941                              NaN        28.60293\n",
       "100                 14.993839                        12.290061             NaN\n",
       "1000                11.380678                        11.262972             NaN"
      ]
     },
     "metadata": {},
     "output_type": "display_data"
    },
    {
     "data": {
      "text/plain": [
       "'uniform_dense'"
      ]
     },
     "metadata": {},
     "output_type": "display_data"
    },
    {
     "data": {
      "text/html": [
       "<div>\n",
       "<style scoped>\n",
       "    .dataframe tbody tr th:only-of-type {\n",
       "        vertical-align: middle;\n",
       "    }\n",
       "\n",
       "    .dataframe tbody tr th {\n",
       "        vertical-align: top;\n",
       "    }\n",
       "\n",
       "    .dataframe thead th {\n",
       "        text-align: right;\n",
       "    }\n",
       "</style>\n",
       "<table border=\"1\" class=\"dataframe\">\n",
       "  <thead>\n",
       "    <tr style=\"text-align: right;\">\n",
       "      <th>algo</th>\n",
       "    </tr>\n",
       "    <tr>\n",
       "      <th>ratio</th>\n",
       "    </tr>\n",
       "  </thead>\n",
       "  <tbody>\n",
       "  </tbody>\n",
       "</table>\n",
       "</div>"
      ],
      "text/plain": [
       "Empty DataFrame\n",
       "Columns: []\n",
       "Index: []"
      ]
     },
     "metadata": {},
     "output_type": "display_data"
    },
    {
     "data": {
      "text/plain": [
       "'uniform_sparse'"
      ]
     },
     "metadata": {},
     "output_type": "display_data"
    },
    {
     "data": {
      "text/html": [
       "<div>\n",
       "<style scoped>\n",
       "    .dataframe tbody tr th:only-of-type {\n",
       "        vertical-align: middle;\n",
       "    }\n",
       "\n",
       "    .dataframe tbody tr th {\n",
       "        vertical-align: top;\n",
       "    }\n",
       "\n",
       "    .dataframe thead th {\n",
       "        text-align: right;\n",
       "    }\n",
       "</style>\n",
       "<table border=\"1\" class=\"dataframe\">\n",
       "  <thead>\n",
       "    <tr style=\"text-align: right;\">\n",
       "      <th>algo</th>\n",
       "    </tr>\n",
       "    <tr>\n",
       "      <th>ratio</th>\n",
       "    </tr>\n",
       "  </thead>\n",
       "  <tbody>\n",
       "  </tbody>\n",
       "</table>\n",
       "</div>"
      ],
      "text/plain": [
       "Empty DataFrame\n",
       "Columns: []\n",
       "Index: []"
      ]
     },
     "metadata": {},
     "output_type": "display_data"
    },
    {
     "data": {
      "text/plain": [
       "'normal'"
      ]
     },
     "metadata": {},
     "output_type": "display_data"
    },
    {
     "data": {
      "text/html": [
       "<div>\n",
       "<style scoped>\n",
       "    .dataframe tbody tr th:only-of-type {\n",
       "        vertical-align: middle;\n",
       "    }\n",
       "\n",
       "    .dataframe tbody tr th {\n",
       "        vertical-align: top;\n",
       "    }\n",
       "\n",
       "    .dataframe thead th {\n",
       "        text-align: right;\n",
       "    }\n",
       "</style>\n",
       "<table border=\"1\" class=\"dataframe\">\n",
       "  <thead>\n",
       "    <tr style=\"text-align: right;\">\n",
       "      <th>algo</th>\n",
       "    </tr>\n",
       "    <tr>\n",
       "      <th>ratio</th>\n",
       "    </tr>\n",
       "  </thead>\n",
       "  <tbody>\n",
       "  </tbody>\n",
       "</table>\n",
       "</div>"
      ],
      "text/plain": [
       "Empty DataFrame\n",
       "Columns: []\n",
       "Index: []"
      ]
     },
     "metadata": {},
     "output_type": "display_data"
    },
    {
     "data": {
      "text/plain": [
       "'lognormal'"
      ]
     },
     "metadata": {},
     "output_type": "display_data"
    },
    {
     "data": {
      "text/html": [
       "<div>\n",
       "<style scoped>\n",
       "    .dataframe tbody tr th:only-of-type {\n",
       "        vertical-align: middle;\n",
       "    }\n",
       "\n",
       "    .dataframe tbody tr th {\n",
       "        vertical-align: top;\n",
       "    }\n",
       "\n",
       "    .dataframe thead th {\n",
       "        text-align: right;\n",
       "    }\n",
       "</style>\n",
       "<table border=\"1\" class=\"dataframe\">\n",
       "  <thead>\n",
       "    <tr style=\"text-align: right;\">\n",
       "      <th>algo</th>\n",
       "    </tr>\n",
       "    <tr>\n",
       "      <th>ratio</th>\n",
       "    </tr>\n",
       "  </thead>\n",
       "  <tbody>\n",
       "  </tbody>\n",
       "</table>\n",
       "</div>"
      ],
      "text/plain": [
       "Empty DataFrame\n",
       "Columns: []\n",
       "Index: []"
      ]
     },
     "metadata": {},
     "output_type": "display_data"
    },
    {
     "data": {
      "text/plain": [
       "'string_keys'"
      ]
     },
     "metadata": {},
     "output_type": "display_data"
    },
    {
     "data": {
      "text/html": [
       "<div>\n",
       "<style scoped>\n",
       "    .dataframe tbody tr th:only-of-type {\n",
       "        vertical-align: middle;\n",
       "    }\n",
       "\n",
       "    .dataframe tbody tr th {\n",
       "        vertical-align: top;\n",
       "    }\n",
       "\n",
       "    .dataframe thead th {\n",
       "        text-align: right;\n",
       "    }\n",
       "</style>\n",
       "<table border=\"1\" class=\"dataframe\">\n",
       "  <thead>\n",
       "    <tr style=\"text-align: right;\">\n",
       "      <th>algo</th>\n",
       "    </tr>\n",
       "    <tr>\n",
       "      <th>ratio</th>\n",
       "    </tr>\n",
       "  </thead>\n",
       "  <tbody>\n",
       "  </tbody>\n",
       "</table>\n",
       "</div>"
      ],
      "text/plain": [
       "Empty DataFrame\n",
       "Columns: []\n",
       "Index: []"
      ]
     },
     "metadata": {},
     "output_type": "display_data"
    }
   ],
   "source": [
    "# SingleThread, 2 way merge vs BTree\n",
    "def plot_dataset_join_duration(dataset):\n",
    "    rows = duckdb.sql(\n",
    "        \"SELECT ratio, threads, algo, MEDIAN(duration_sec) as d, MEDIAN(thput) as t FROM df \" \n",
    "        \"WHERE\" \n",
    "        \"   (algo='standard_merge' OR algo='learned_merge_sampledflatpgm256' OR algo='learned_merge_btree256')\"\n",
    "        \"   AND threads=1\"\n",
    "        f\"   AND dataset='{dataset}'\"\n",
    "        \"GROUP BY dataset, ratio, threads, algo\"\n",
    "    ).df()\n",
    "    result = (rows.pivot(index='ratio', values='d', columns=['algo']))\n",
    "    ## Save to CSV\n",
    "    os.makedirs('single_thread_csv_ssd_merge_latency/', exist_ok=True)\n",
    "    result.to_csv(f'single_thread_csv_ssd_merge_latency/{dataset}.csv')\n",
    "    return result\n",
    "\n",
    "real_datasets = ['fb', 'wiki', 'osm', 'books']\n",
    "synth_datasets = ['uniform_dense', 'uniform_sparse', 'normal', 'lognormal', 'string_keys']\n",
    "\n",
    "for dataset in real_datasets:\n",
    "    display(dataset)\n",
    "    display(plot_dataset_join_duration(dataset))\n",
    "\n",
    "for dataset in synth_datasets:\n",
    "    display(dataset)\n",
    "    display(plot_dataset_join_duration(dataset))"
   ]
  },
  {
   "cell_type": "code",
   "execution_count": 22,
   "metadata": {},
   "outputs": [
    {
     "data": {
      "text/html": [
       "<div>\n",
       "<style scoped>\n",
       "    .dataframe tbody tr th:only-of-type {\n",
       "        vertical-align: middle;\n",
       "    }\n",
       "\n",
       "    .dataframe tbody tr th {\n",
       "        vertical-align: top;\n",
       "    }\n",
       "\n",
       "    .dataframe thead th {\n",
       "        text-align: right;\n",
       "    }\n",
       "</style>\n",
       "<table border=\"1\" class=\"dataframe\">\n",
       "  <thead>\n",
       "    <tr style=\"text-align: right;\">\n",
       "      <th>algo</th>\n",
       "      <th>learned_merge_btree256</th>\n",
       "      <th>learned_merge_sampledflatpgm256</th>\n",
       "      <th>standard_merge</th>\n",
       "    </tr>\n",
       "    <tr>\n",
       "      <th>threads</th>\n",
       "      <th></th>\n",
       "      <th></th>\n",
       "      <th></th>\n",
       "    </tr>\n",
       "  </thead>\n",
       "  <tbody>\n",
       "    <tr>\n",
       "      <th>16</th>\n",
       "      <td>5.338047</td>\n",
       "      <td>5.479818</td>\n",
       "      <td>5.459968</td>\n",
       "    </tr>\n",
       "  </tbody>\n",
       "</table>\n",
       "</div>"
      ],
      "text/plain": [
       "algo     learned_merge_btree256  learned_merge_sampledflatpgm256  \\\n",
       "threads                                                            \n",
       "16                     5.338047                         5.479818   \n",
       "\n",
       "algo     standard_merge  \n",
       "threads                  \n",
       "16             5.459968  "
      ]
     },
     "metadata": {},
     "output_type": "display_data"
    },
    {
     "data": {
      "text/html": [
       "<div>\n",
       "<style scoped>\n",
       "    .dataframe tbody tr th:only-of-type {\n",
       "        vertical-align: middle;\n",
       "    }\n",
       "\n",
       "    .dataframe tbody tr th {\n",
       "        vertical-align: top;\n",
       "    }\n",
       "\n",
       "    .dataframe thead th {\n",
       "        text-align: right;\n",
       "    }\n",
       "</style>\n",
       "<table border=\"1\" class=\"dataframe\">\n",
       "  <thead>\n",
       "    <tr style=\"text-align: right;\">\n",
       "      <th>algo</th>\n",
       "      <th>learned_merge_btree256</th>\n",
       "      <th>learned_merge_sampledflatpgm256</th>\n",
       "      <th>standard_merge</th>\n",
       "    </tr>\n",
       "    <tr>\n",
       "      <th>threads</th>\n",
       "      <th></th>\n",
       "      <th></th>\n",
       "      <th></th>\n",
       "    </tr>\n",
       "  </thead>\n",
       "  <tbody>\n",
       "    <tr>\n",
       "      <th>16</th>\n",
       "      <td>2.955827</td>\n",
       "      <td>3.280966</td>\n",
       "      <td>2.943177</td>\n",
       "    </tr>\n",
       "  </tbody>\n",
       "</table>\n",
       "</div>"
      ],
      "text/plain": [
       "algo     learned_merge_btree256  learned_merge_sampledflatpgm256  \\\n",
       "threads                                                            \n",
       "16                     2.955827                         3.280966   \n",
       "\n",
       "algo     standard_merge  \n",
       "threads                  \n",
       "16             2.943177  "
      ]
     },
     "metadata": {},
     "output_type": "display_data"
    },
    {
     "data": {
      "text/html": [
       "<div>\n",
       "<style scoped>\n",
       "    .dataframe tbody tr th:only-of-type {\n",
       "        vertical-align: middle;\n",
       "    }\n",
       "\n",
       "    .dataframe tbody tr th {\n",
       "        vertical-align: top;\n",
       "    }\n",
       "\n",
       "    .dataframe thead th {\n",
       "        text-align: right;\n",
       "    }\n",
       "</style>\n",
       "<table border=\"1\" class=\"dataframe\">\n",
       "  <thead>\n",
       "    <tr style=\"text-align: right;\">\n",
       "      <th>algo</th>\n",
       "      <th>learned_merge_btree256</th>\n",
       "      <th>learned_merge_sampledflatpgm256</th>\n",
       "      <th>standard_merge</th>\n",
       "    </tr>\n",
       "    <tr>\n",
       "      <th>threads</th>\n",
       "      <th></th>\n",
       "      <th></th>\n",
       "      <th></th>\n",
       "    </tr>\n",
       "  </thead>\n",
       "  <tbody>\n",
       "    <tr>\n",
       "      <th>16</th>\n",
       "      <td>2.876583</td>\n",
       "      <td>2.776465</td>\n",
       "      <td>2.810304</td>\n",
       "    </tr>\n",
       "  </tbody>\n",
       "</table>\n",
       "</div>"
      ],
      "text/plain": [
       "algo     learned_merge_btree256  learned_merge_sampledflatpgm256  \\\n",
       "threads                                                            \n",
       "16                     2.876583                         2.776465   \n",
       "\n",
       "algo     standard_merge  \n",
       "threads                  \n",
       "16             2.810304  "
      ]
     },
     "metadata": {},
     "output_type": "display_data"
    },
    {
     "data": {
      "text/html": [
       "<div>\n",
       "<style scoped>\n",
       "    .dataframe tbody tr th:only-of-type {\n",
       "        vertical-align: middle;\n",
       "    }\n",
       "\n",
       "    .dataframe tbody tr th {\n",
       "        vertical-align: top;\n",
       "    }\n",
       "\n",
       "    .dataframe thead th {\n",
       "        text-align: right;\n",
       "    }\n",
       "</style>\n",
       "<table border=\"1\" class=\"dataframe\">\n",
       "  <thead>\n",
       "    <tr style=\"text-align: right;\">\n",
       "      <th>algo</th>\n",
       "      <th>learned_merge_btree256</th>\n",
       "      <th>learned_merge_sampledflatpgm256</th>\n",
       "      <th>standard_merge</th>\n",
       "    </tr>\n",
       "    <tr>\n",
       "      <th>threads</th>\n",
       "      <th></th>\n",
       "      <th></th>\n",
       "      <th></th>\n",
       "    </tr>\n",
       "  </thead>\n",
       "  <tbody>\n",
       "    <tr>\n",
       "      <th>16</th>\n",
       "      <td>2.738573</td>\n",
       "      <td>2.775918</td>\n",
       "      <td>3.002019</td>\n",
       "    </tr>\n",
       "  </tbody>\n",
       "</table>\n",
       "</div>"
      ],
      "text/plain": [
       "algo     learned_merge_btree256  learned_merge_sampledflatpgm256  \\\n",
       "threads                                                            \n",
       "16                     2.738573                         2.775918   \n",
       "\n",
       "algo     standard_merge  \n",
       "threads                  \n",
       "16             3.002019  "
      ]
     },
     "metadata": {},
     "output_type": "display_data"
    }
   ],
   "source": [
    "def plot_epsilon_vs_duration_200M(ratio):\n",
    "    rows = duckdb.sql(\n",
    "        \" SELECT threads, ratio, epsilon, algo, AVG(duration_sec) as v FROM df\"\n",
    "        \" WHERE (algo='learned_merge_sampledflatpgm256' OR algo='standard_merge' OR algo='learned_merge_btree256')\"\n",
    "        f\" AND ratio={ratio} AND dataset='fb_' AND dataset_size=200000000 AND threads=16\"\n",
    "        \" GROUP BY ratio, threads, epsilon, algo\"\n",
    "        \" ORDER BY ratio, threads, epsilon\"\n",
    "    ).df()\n",
    "    os.makedirs('multithread_merge', exist_ok=True)\n",
    "    rows.pivot(index='threads', values='v', columns=['algo']).to_csv(f'multithread_merge/ratio_{ratio}.txt')\n",
    "    return rows.pivot(index='threads', values='v', columns=['algo'])\n",
    "\n",
    "display(plot_epsilon_vs_duration_200M(1))\n",
    "display(plot_epsilon_vs_duration_200M(10))\n",
    "display(plot_epsilon_vs_duration_200M(100))\n",
    "display(plot_epsilon_vs_duration_200M(1000))"
   ]
  },
  {
   "cell_type": "code",
   "execution_count": 16,
   "metadata": {},
   "outputs": [
    {
     "name": "stdout",
     "output_type": "stream",
     "text": [
      "\\begin{tabular}{lrrr}\n",
      "\\toprule\n",
      "algo & standard_merge_rel & learned_merge_btree256_rel & learned_merge_flatpgm256_rel \\\\\n",
      "ratio &  &  &  \\\\\n",
      "\\midrule\n",
      "1 & 1.00 & 0.29 & 0.55 \\\\\n",
      "10 & 1.00 & 0.94 & 1.27 \\\\\n",
      "100 & 1.00 & 1.73 & 1.86 \\\\\n",
      "1000 & 1.00 & 2.02 & 2.01 \\\\\n",
      "\\bottomrule\n",
      "\\end{tabular}\n",
      "\n"
     ]
    }
   ],
   "source": [
    "def plot_dataset_relative():\n",
    "    rows = duckdb.sql(\n",
    "        \"SELECT ratio, algo, AVG(duration_sec) as d FROM df \" \n",
    "        \"WHERE\" \n",
    "        \"  threads=1 AND dataset!='string_keys'\"\n",
    "        \"GROUP BY ratio, threads, algo\"\n",
    "    ).df()\n",
    "    result = rows.pivot(index='ratio', values='d', columns=['algo'])\n",
    "    return result\n",
    "result = plot_dataset_relative()\n",
    "\n",
    "columns = ['standard_merge', 'learned_merge_btree256', 'learned_merge_flatpgm256']\n",
    "for column in columns:\n",
    "    result[column+'_rel'] = result['standard_merge']/result[column]\n",
    "\n",
    "print(result[['standard_merge_rel', 'learned_merge_btree256_rel', 'learned_merge_flatpgm256_rel']].to_latex(float_format='%.2lf'))"
   ]
  },
  {
   "cell_type": "code",
   "execution_count": 17,
   "metadata": {},
   "outputs": [
    {
     "name": "stdout",
     "output_type": "stream",
     "text": [
      "\\begin{tabular}{lrrr}\n",
      "\\toprule\n",
      "algo & standard_merge_rel & learned_merge_btree256_rel & learned_merge_flatpgm256_rel \\\\\n",
      "ratio &  &  &  \\\\\n",
      "\\midrule\n",
      "1 & 1.00 & 0.98 & 1.02 \\\\\n",
      "10 & 1.00 & 1.00 & 0.99 \\\\\n",
      "100 & 1.00 & 0.98 & 0.99 \\\\\n",
      "1000 & 1.00 & 1.01 & 0.99 \\\\\n",
      "\\bottomrule\n",
      "\\end{tabular}\n",
      "\n"
     ]
    }
   ],
   "source": [
    "def plot_dataset_relative_16():\n",
    "    rows = duckdb.sql(\n",
    "        \"SELECT ratio, algo, AVG(duration_sec) as d FROM df \" \n",
    "        \"WHERE\" \n",
    "        \"  threads=16 AND dataset!='string_keys'\"\n",
    "        \"GROUP BY ratio, threads, algo\"\n",
    "    ).df()\n",
    "    result = rows.pivot(index='ratio', values='d', columns=['algo'])\n",
    "    return result\n",
    "result = plot_dataset_relative_16()\n",
    "\n",
    "columns = ['standard_merge', 'learned_merge_btree256', 'learned_merge_flatpgm256']\n",
    "for column in columns:\n",
    "    result[column+'_rel'] = result['standard_merge']/result[column]\n",
    "\n",
    "print(result[['standard_merge_rel', 'learned_merge_btree256_rel', 'learned_merge_flatpgm256_rel']].to_latex(float_format='%.2lf'))"
   ]
  }
 ],
 "metadata": {
  "kernelspec": {
   "display_name": "Python 3 (ipykernel)",
   "language": "python",
   "name": "python3"
  },
  "language_info": {
   "codemirror_mode": {
    "name": "ipython",
    "version": 3
   },
   "file_extension": ".py",
   "mimetype": "text/x-python",
   "name": "python",
   "nbconvert_exporter": "python",
   "pygments_lexer": "ipython3",
   "version": "3.8.10"
  }
 },
 "nbformat": 4,
 "nbformat_minor": 2
}
