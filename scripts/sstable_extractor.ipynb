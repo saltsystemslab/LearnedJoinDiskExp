{
 "cells": [
  {
   "cell_type": "code",
   "execution_count": 32,
   "metadata": {},
   "outputs": [],
   "source": [
    "import matplotlib.pyplot as plt\n",
    "import numpy as np"
   ]
  },
  {
   "cell_type": "code",
   "execution_count": 27,
   "metadata": {},
   "outputs": [
    {
     "name": "stdout",
     "output_type": "stream",
     "text": [
      "NumKeys:7982102\n",
      "KeySize:16\n",
      "Padding:0\n",
      "Keys Loaded!\n"
     ]
    }
   ],
   "source": [
    "sstable_path = './ar_keys'\n",
    "keys = []\n",
    "with open(sstable_path, \"rb\") as f:\n",
    "    num_keys = int.from_bytes(f.read(8), 'little')\n",
    "    key_size = int.from_bytes(f.read(2), 'little')\n",
    "    padding = int.from_bytes(f.read(6), 'little')\n",
    "    print(\"NumKeys:\" + str(num_keys))\n",
    "    print(\"KeySize:\" + str(key_size))\n",
    "    print(\"Padding:\" + str(padding))\n",
    "    for i in range(num_keys):\n",
    "        keys.append(f.read(key_size))\n",
    "print(\"Keys Loaded!\")"
   ]
  },
  {
   "cell_type": "code",
   "execution_count": 31,
   "metadata": {},
   "outputs": [
    {
     "name": "stdout",
     "output_type": "stream",
     "text": [
      "Keys are sorted: True\n"
     ]
    }
   ],
   "source": [
    "def is_sorted(bytekeys, num_keys):\n",
    "    for i in range(1, num_keys):\n",
    "        if bytekeys[i-1] > bytekeys[i]:\n",
    "            print(i-1, bytekeys[i-1])\n",
    "            return False\n",
    "    return True\n",
    "\n",
    "def key_to_double(bytekey, key_size):\n",
    "    ret = 0\n",
    "    for i in range(key_size):\n",
    "        ret = ret * 256 + bytekey[i]\n",
    "    return ret\n",
    "\n",
    "def build_emp_cdf(keys, key_size):\n",
    "    x = []\n",
    "    y = []\n",
    "    idx = 0\n",
    "    for key in keys:\n",
    "        x.append(key_to_double(key, key_size))\n",
    "        y.append(idx)\n",
    "        idx = idx + 1\n",
    "    return (x,y)\n",
    "\n",
    "print(\"Keys are sorted: \" + str(is_sorted(keys, num_keys)))\n",
    "key_to_double(keys[100], key_size)\n",
    "\n",
    "emp_cdf = build_emp_cdf(keys, key_size)\n"
   ]
  },
  {
   "cell_type": "code",
   "execution_count": 33,
   "metadata": {},
   "outputs": [
    {
     "data": {
      "image/png": "[encoded data removed]",
      "text/plain": [
       "<Figure size 640x480 with 1 Axes>"
      ]
     },
     "metadata": {},
     "output_type": "display_data"
    }
   ],
   "source": [
    "plt.xlabel('ITEM')\n",
    "plt.ylabel('POSITION')\n",
    "plt.scatter(emp_cdf[0], emp_cdf[1])\n",
    "plt.show()"
   ]
  }
 ],
 "metadata": {
  "kernelspec": {
   "display_name": "Python 3",
   "language": "python",
   "name": "python3"
  },
  "language_info": {
   "codemirror_mode": {
    "name": "ipython",
    "version": 3
   },
   "file_extension": ".py",
   "mimetype": "text/x-python",
   "name": "python",
   "nbconvert_exporter": "python",
   "pygments_lexer": "ipython3",
   "version": "3.8.10"
  },
  "orig_nbformat": 4
 },
 "nbformat": 4,
 "nbformat_minor": 2
}
