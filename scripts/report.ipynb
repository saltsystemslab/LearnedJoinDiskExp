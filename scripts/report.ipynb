{
 "cells": [
  {
   "cell_type": "code",
   "execution_count": 60,
   "metadata": {},
   "outputs": [
    {
     "name": "stdout",
     "output_type": "stream",
     "text": [
      "['/home/chesetti/Repos/learned_merge_cleanup/sponge/wiki_merge_small_1/outputs/results/run0', '/home/chesetti/Repos/learned_merge_cleanup/sponge/wiki_merge_small_1/outputs/results/run1', '/home/chesetti/Repos/learned_merge_cleanup/sponge/wiki_merge_small_1/outputs/results/run2']\n"
     ]
    }
   ],
   "source": [
    "import os;\n",
    "import json;\n",
    "import builtins\n",
    "import pandas as pd;\n",
    "\n",
    "dir = '/home/chesetti/Repos/learned_merge_cleanup/sponge'\n",
    "testcase = 'osm_merge_small_1'\n",
    "test_dir = os.path.join(dir, testcase)\n",
    "results_dir = os.path.join(test_dir, 'outputs', 'results')\n",
    "csv_dir = os.path.join(test_dir, 'csv')\n",
    "os.makedirs(csv_dir, exist_ok=True)\n",
    "\n",
    "runs = [os.path.join(results_dir, run) for run in os.listdir(results_dir)]\n",
    "print(runs)"
   ]
  },
  {
   "cell_type": "code",
   "execution_count": 61,
   "metadata": {},
   "outputs": [
    {
     "name": "stdout",
     "output_type": "stream",
     "text": [
      "Index(['command', 'run', 'result.checksum', 'result.duration_ns',\n",
      "       'result.duration_sec', 'result.inner_disk_fetch',\n",
      "       'result.inner_index_build_duration_ns', 'result.inner_index_size',\n",
      "       'result.outer_disk_fetch', 'spec.algo', 'spec.algo_name',\n",
      "       'spec.common_key', 'spec.index.search', 'spec.index.type',\n",
      "       'spec.inner_table', 'spec.key_size', 'spec.key_type',\n",
      "       'spec.load_sstable_in_mem', 'spec.name', 'spec.num_threads',\n",
      "       'spec.outer_table', 'spec.result_path', 'spec.value_size',\n",
      "       'spec.write_result_to_disk', 'spec.index.leaf_size_in_pages'],\n",
      "      dtype='object')\n"
     ]
    }
   ],
   "source": [
    "# Walk all the json files and put them in a dataframe\n",
    "\n",
    "test_results = []\n",
    "for run in runs:\n",
    "    for test_result_file in os.listdir(run):\n",
    "        json_file = builtins.open(os.path.join(run, test_result_file))\n",
    "        test_result = json.load(json_file)\n",
    "        test_result['run'] = run\n",
    "        test_results.append(test_result)\n",
    "        json_file.close()\n",
    "test_dataframe = pd.json_normalize(test_results)\n",
    "print(test_dataframe.columns)\n",
    "\n",
    "        "
   ]
  },
  {
   "attachments": {},
   "cell_type": "markdown",
   "metadata": {},
   "source": [
    "# Reports"
   ]
  },
  {
   "attachments": {},
   "cell_type": "markdown",
   "metadata": {},
   "source": [
    "### Overall Duration"
   ]
  },
  {
   "cell_type": "code",
   "execution_count": 62,
   "metadata": {},
   "outputs": [
    {
     "name": "stdout",
     "output_type": "stream",
     "text": [
      "spec.algo_name      BTree   PGM1024    PGM256     PGM64  standard_merge\n",
      "spec.common_key                                                        \n",
      "10               45945151  34020956  35897755  36165195        53054879\n",
      "20               33331832  26344045  26960142  28134965        49801661\n",
      "30               30104509  23497990  24178520  24455250        47468195\n",
      "40               27841982  22238694  22616706  23011005        47126154\n",
      "50               25929593  21450914  21786595  22142141        46396541\n",
      "60               24611161  20903339  21012812  21447713        46291065\n",
      "70               25550913  20440435  21203598  20990173        46354259\n",
      "80               23940477  20038197  20379034  20622475        50772803\n",
      "90               23263890  19919146  20020745  20234447        47299097\n",
      "100              22894481  19645943  19752015  20080803        45667093\n"
     ]
    }
   ],
   "source": [
    "overall_duration = test_dataframe.pivot_table(index='spec.common_key', columns='spec.algo_name', values='result.duration_ns', aggfunc='median')\n",
    "overall_duration.to_csv(os.path.join(csv_dir, 'duration_sec.csv'))\n",
    "print(overall_duration)"
   ]
  },
  {
   "cell_type": "code",
   "execution_count": 63,
   "metadata": {},
   "outputs": [
    {
     "name": "stdout",
     "output_type": "stream",
     "text": [
      "          indexes  memory_bytes\n",
      "0           BTree       12352.0\n",
      "1         PGM1024         328.0\n",
      "2          PGM256         896.0\n",
      "3           PGM64        9264.0\n",
      "4  standard_merge       41088.0\n"
     ]
    }
   ],
   "source": [
    "inner_index_size = test_dataframe.pivot_table(index='spec.common_key', columns='spec.algo_name', values='result.inner_index_size', aggfunc='median')\n",
    "data = {}\n",
    "data['indexes'] = []\n",
    "data['memory_bytes'] = []\n",
    "for index in inner_index_size:\n",
    "    data['indexes'].append(index)\n",
    "    data['memory_bytes'].append(inner_index_size[index].mean())\n",
    "inner_index_size = pd.DataFrame(data=data)\n",
    "inner_index_size.to_csv(os.path.join(csv_dir, 'inner_index_size.csv'))\n",
    "print(inner_index_size)"
   ]
  },
  {
   "cell_type": "code",
   "execution_count": 64,
   "metadata": {},
   "outputs": [],
   "source": [
    "inner_index_build_duration = test_dataframe.pivot_table(index='spec.common_key', columns='spec.algo_name', values='result.inner_index_build_duration_ns', aggfunc='median')\n",
    "data = {}\n",
    "data['indexes'] = []\n",
    "data['build_duration'] = []\n",
    "for index in inner_index_build_duration:\n",
    "    data['indexes'].append(index)\n",
    "    data['build_duration'].append(inner_index_build_duration[index].mean())\n",
    "inner_index_build_duration = pd.DataFrame(data=data)\n",
    "inner_index_build_duration.to_csv(os.path.join(csv_dir, 'inner_index_build_duration_ns.csv'))"
   ]
  },
  {
   "cell_type": "code",
   "execution_count": 65,
   "metadata": {},
   "outputs": [
    {
     "name": "stdout",
     "output_type": "stream",
     "text": [
      "spec.algo_name   BTree  PGM1024  PGM256  PGM64  standard_merge\n",
      "spec.common_key                                               \n",
      "10                3897     3897    3897   3897            3897\n",
      "20                3897     3897    3897   3897            3897\n",
      "30                3897     3897    3897   3897            3897\n",
      "40                3897     3897    3897   3897            3897\n",
      "50                3897     3897    3897   3897            3897\n",
      "60                3897     3897    3897   3897            3897\n",
      "70                3897     3897    3897   3897            3897\n",
      "80                3897     3897    3897   3897            3897\n",
      "90                3897     3897    3897   3897            3897\n",
      "100               3897     3897    3897   3897            3897\n"
     ]
    }
   ],
   "source": [
    "inner_index_fetch = test_dataframe.pivot_table(index='spec.common_key', columns='spec.algo_name', values='result.inner_disk_fetch', aggfunc='median')\n",
    "print(inner_index_fetch)"
   ]
  },
  {
   "cell_type": "code",
   "execution_count": 66,
   "metadata": {},
   "outputs": [
    {
     "name": "stdout",
     "output_type": "stream",
     "text": [
      "common_key: 10 checksum: ['1CCCD0E7498C9710267C368E6A9A441A'] OK\n",
      "common_key: 20 checksum: ['765B4B4DA7B211F362A666308730F1B0'] OK\n",
      "common_key: 30 checksum: ['4819FA57EEFB140B248A5338DA1C5741'] OK\n",
      "common_key: 40 checksum: ['07F4237B4B8A197763DCA9FBF19C1883'] OK\n",
      "common_key: 50 checksum: ['0AEC67B4CAA5C5556084EF0264C99955'] OK\n",
      "common_key: 60 checksum: ['0CFD8469BD9D4A58F585700E3ACD5021'] OK\n",
      "common_key: 70 checksum: ['D7762C6E8E16571C5FE1453D11C21002'] OK\n",
      "common_key: 80 checksum: ['CB67B0C284512E25C3AEF9579E4DE03A'] OK\n",
      "common_key: 90 checksum: ['6C6844E380AD9932C9F20BAEE9CDE56B'] OK\n",
      "common_key: 100 checksum: ['72DB0875CE5603FA096483EB9CC02FF7'] OK\n",
      "     spec.common_key  spec.algo_name                   result.checksum\n",
      "6                 40           BTree  07F4237B4B8A197763DCA9FBF19C1883\n",
      "56                40           BTree  07F4237B4B8A197763DCA9FBF19C1883\n",
      "106               40           BTree  07F4237B4B8A197763DCA9FBF19C1883\n",
      "40                40         PGM1024  07F4237B4B8A197763DCA9FBF19C1883\n",
      "90                40         PGM1024  07F4237B4B8A197763DCA9FBF19C1883\n",
      "140               40         PGM1024  07F4237B4B8A197763DCA9FBF19C1883\n",
      "12                40          PGM256  07F4237B4B8A197763DCA9FBF19C1883\n",
      "62                40          PGM256  07F4237B4B8A197763DCA9FBF19C1883\n",
      "112               40          PGM256  07F4237B4B8A197763DCA9FBF19C1883\n",
      "18                40           PGM64  07F4237B4B8A197763DCA9FBF19C1883\n",
      "68                40           PGM64  07F4237B4B8A197763DCA9FBF19C1883\n",
      "118               40           PGM64  07F4237B4B8A197763DCA9FBF19C1883\n",
      "14                40  standard_merge  07F4237B4B8A197763DCA9FBF19C1883\n",
      "64                40  standard_merge  07F4237B4B8A197763DCA9FBF19C1883\n",
      "114               40  standard_merge  07F4237B4B8A197763DCA9FBF19C1883\n",
      "['07F4237B4B8A197763DCA9FBF19C1883']\n"
     ]
    }
   ],
   "source": [
    "result_checksum = (test_dataframe[['spec.common_key', 'spec.algo_name', 'result.checksum']].sort_values(by=['spec.common_key', 'spec.algo_name'])) #.loc[test_dataframe['spec.common_key']=='10'])\n",
    "for common_key in sorted(test_dataframe['spec.common_key'].unique()):\n",
    "    checksums = result_checksum.loc[result_checksum['spec.common_key'] == common_key]\n",
    "    unique_checksums = checksums['result.checksum'].unique()\n",
    "    if (len(unique_checksums) == 1):\n",
    "        print(f\"common_key: {common_key} checksum: {unique_checksums} OK\")\n",
    "    else:\n",
    "        print(f\"common_key: {common_key} checksums don't match\")\n",
    "print(result_checksum.loc[result_checksum['spec.common_key'] == 40])\n",
    "print(result_checksum.loc[result_checksum['spec.common_key'] == 40]['result.checksum'].unique())"
   ]
  }
 ],
 "metadata": {
  "kernelspec": {
   "display_name": "Python 3 (ipykernel)",
   "language": "python",
   "name": "python3"
  },
  "language_info": {
   "codemirror_mode": {
    "name": "ipython",
    "version": 3
   },
   "file_extension": ".py",
   "mimetype": "text/x-python",
   "name": "python",
   "nbconvert_exporter": "python",
   "pygments_lexer": "ipython3",
   "version": "3.8.10"
  },
  "orig_nbformat": 4
 },
 "nbformat": 4,
 "nbformat_minor": 2
}
