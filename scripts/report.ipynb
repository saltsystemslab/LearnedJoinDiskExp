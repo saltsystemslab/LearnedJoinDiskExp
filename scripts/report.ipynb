{
 "cells": [
  {
   "cell_type": "code",
   "execution_count": 111,
   "metadata": {},
   "outputs": [
    {
     "ename": "FileNotFoundError",
     "evalue": "[Errno 2] No such file or directory: '/home/chesetti/Repos/learned_merge_cleanup/pgm_vs_flat/join_fb_1_1/outputs/results'",
     "output_type": "error",
     "traceback": [
      "\u001b[0;31m---------------------------------------------------------------------------\u001b[0m",
      "\u001b[0;31mFileNotFoundError\u001b[0m                         Traceback (most recent call last)",
      "Cell \u001b[0;32mIn[111], line 13\u001b[0m\n\u001b[1;32m     10\u001b[0m csv_dir \u001b[39m=\u001b[39m os\u001b[39m.\u001b[39mpath\u001b[39m.\u001b[39mjoin(test_dir, \u001b[39m'\u001b[39m\u001b[39mcsv\u001b[39m\u001b[39m'\u001b[39m)\n\u001b[1;32m     11\u001b[0m os\u001b[39m.\u001b[39mmakedirs(csv_dir, exist_ok\u001b[39m=\u001b[39m\u001b[39mTrue\u001b[39;00m)\n\u001b[0;32m---> 13\u001b[0m runs \u001b[39m=\u001b[39m [os\u001b[39m.\u001b[39mpath\u001b[39m.\u001b[39mjoin(results_dir, run) \u001b[39mfor\u001b[39;00m run \u001b[39min\u001b[39;00m os\u001b[39m.\u001b[39;49mlistdir(results_dir)]\n\u001b[1;32m     14\u001b[0m \u001b[39mprint\u001b[39m(runs)\n",
      "\u001b[0;31mFileNotFoundError\u001b[0m: [Errno 2] No such file or directory: '/home/chesetti/Repos/learned_merge_cleanup/pgm_vs_flat/join_fb_1_1/outputs/results'"
     ]
    }
   ],
   "source": [
    "import os;\n",
    "import json;\n",
    "import builtins\n",
    "import pandas as pd;\n",
    "\n",
    "dir = '/home/chesetti/Repos/learned_merge_cleanup'\n",
    "testcase = 'pgm_vs_flat/join_fb_1_1'\n",
    "test_dir = os.path.join(dir, testcase)\n",
    "results_dir = os.path.join(test_dir, 'outputs', 'results')\n",
    "csv_dir = os.path.join(test_dir, 'csv')\n",
    "os.makedirs(csv_dir, exist_ok=True)\n",
    "\n",
    "runs = [os.path.join(results_dir, run) for run in os.listdir(results_dir)]\n",
    "print(runs)"
   ]
  },
  {
   "cell_type": "code",
   "execution_count": null,
   "metadata": {},
   "outputs": [],
   "source": []
  },
  {
   "cell_type": "code",
   "execution_count": null,
   "metadata": {},
   "outputs": [
    {
     "name": "stdout",
     "output_type": "stream",
     "text": [
      "Index(['command', 'run', 'result.checksum', 'result.duration_ns',\n",
      "       'result.duration_sec', 'result.inner_disk_fetch',\n",
      "       'result.inner_disk_fetch_size', 'result.inner_total_bytes_fetched',\n",
      "       'result.outer_disk_fetch', 'result.outer_disk_fetch_size',\n",
      "       'result.outer_total_bytes_fetched', 'spec.algo', 'spec.algo_name',\n",
      "       'spec.check_checksum', 'spec.common_key', 'spec.index.search',\n",
      "       'spec.index.type', 'spec.inner_table', 'spec.key_size', 'spec.key_type',\n",
      "       'spec.load_sstable_in_mem', 'spec.name', 'spec.num_threads',\n",
      "       'spec.outer_table', 'spec.result_path', 'spec.value_size',\n",
      "       'spec.write_result_to_disk'],\n",
      "      dtype='object')\n"
     ]
    }
   ],
   "source": [
    "# Walk all the json files and put them in a dataframe\n",
    "\n",
    "test_results = []\n",
    "for run in runs:\n",
    "    for test_result_file in os.listdir(run):\n",
    "        json_file = builtins.open(os.path.join(run, test_result_file))\n",
    "        test_result = json.load(json_file)\n",
    "        test_result['run'] = run\n",
    "        test_results.append(test_result)\n",
    "        json_file.close()\n",
    "test_dataframe = pd.json_normalize(test_results)\n",
    "print(test_dataframe.columns)\n",
    "\n",
    "        "
   ]
  },
  {
   "attachments": {},
   "cell_type": "markdown",
   "metadata": {},
   "source": [
    "# Reports"
   ]
  },
  {
   "attachments": {},
   "cell_type": "markdown",
   "metadata": {},
   "source": [
    "### Overall Duration"
   ]
  },
  {
   "cell_type": "code",
   "execution_count": null,
   "metadata": {},
   "outputs": [
    {
     "name": "stdout",
     "output_type": "stream",
     "text": [
      "Index(['flatpgm1024', 'flatpgm2048', 'flatpgm256', 'pgm1024', 'pgm2048',\n",
      "       'pgm256', 'sj'],\n",
      "      dtype='object', name='spec.algo_name')\n",
      "Index([1, 5, 10, 50, 100, 500, 1000], dtype='int64', name='spec.common_key')\n",
      "spec.algo_name   flatpgm1024  flatpgm2048   flatpgm256      pgm1024  \\\n",
      "spec.common_key                                                       \n",
      "1                916012932.0  985156154.0  837804812.5  979792843.0   \n",
      "5                226729518.0  232052062.5  213930525.0  239461365.0   \n",
      "10               131759663.5  131993212.0  128813413.0  139699101.5   \n",
      "50                53104401.0   52924093.0   50480582.5   52725617.0   \n",
      "100               37887636.0   41648986.5   42227045.5   35764968.5   \n",
      "500               26888288.0   24998891.0   20598737.0   23332842.0   \n",
      "1000              22599161.0   26367658.5   11140243.5   19437566.0   \n",
      "\n",
      "spec.algo_name        pgm2048       pgm256           sj  \n",
      "spec.common_key                                          \n",
      "1                1.014986e+09  962124295.5  449212196.5  \n",
      "5                2.554091e+08  248432794.5  181057731.0  \n",
      "10               1.494168e+08  147566310.0  145617704.5  \n",
      "50               5.226794e+07   51247555.5  123237128.5  \n",
      "100              3.905414e+07   40840353.5  116709884.5  \n",
      "500              2.926106e+07   24969207.5  118086842.5  \n",
      "1000             2.273817e+07   17418853.5  116784497.5  \n",
      "|   spec.common_key |   flatpgm256 |      pgm256 |   flatpgm1024 |     pgm1024 |   flatpgm2048 |     pgm2048 |\n",
      "|------------------:|-------------:|------------:|--------------:|------------:|--------------:|------------:|\n",
      "|                 1 |  8.37805e+08 | 9.62124e+08 |   9.16013e+08 | 9.79793e+08 |   9.85156e+08 | 1.01499e+09 |\n",
      "|                 5 |  2.13931e+08 | 2.48433e+08 |   2.2673e+08  | 2.39461e+08 |   2.32052e+08 | 2.55409e+08 |\n",
      "|                10 |  1.28813e+08 | 1.47566e+08 |   1.3176e+08  | 1.39699e+08 |   1.31993e+08 | 1.49417e+08 |\n",
      "|                50 |  5.04806e+07 | 5.12476e+07 |   5.31044e+07 | 5.27256e+07 |   5.29241e+07 | 5.22679e+07 |\n",
      "|               100 |  4.2227e+07  | 4.08404e+07 |   3.78876e+07 | 3.5765e+07  |   4.1649e+07  | 3.90541e+07 |\n",
      "|               500 |  2.05987e+07 | 2.49692e+07 |   2.68883e+07 | 2.33328e+07 |   2.49989e+07 | 2.92611e+07 |\n",
      "|              1000 |  1.11402e+07 | 1.74189e+07 |   2.25992e+07 | 1.94376e+07 |   2.63677e+07 | 2.27382e+07 |\n"
     ]
    },
    {
     "data": {
      "text/plain": [
       "'\\nfor column in throughput.columns:\\n    throughput[column] = (200_000_000/throughput.index) * (1000_000_000.0 / throughput[column])\\n    throughput[column +\"_sj-rel\"] = (throughput[column] - throughput[\"sj\"] / throughput[\"sj\"]) * 100.0\\nprint(throughput)\\noverall_duration[[\"btree2048\", \"btree1024\", \"btree256\", \"sj\"]].plot() \\noverall_duration[[\"pgm128\", \"pgm512\", \"pgm1024\", \"sj\"]].plot() \\n'"
      ]
     },
     "execution_count": 106,
     "metadata": {},
     "output_type": "execute_result"
    }
   ],
   "source": [
    "overall_duration = test_dataframe.pivot_table(index='spec.common_key', columns='spec.algo_name', values='result.duration_ns', aggfunc='median')\n",
    "overall_duration.to_csv(os.path.join(csv_dir, 'duration_sec.csv'))\n",
    "print(overall_duration.columns)\n",
    "print(overall_duration.index)\n",
    "print(overall_duration)\n",
    "throughput = overall_duration\n",
    "print(throughput[['flatpgm256', 'pgm256', 'flatpgm1024', 'pgm1024', 'flatpgm2048', 'pgm2048']].to_markdown())\n",
    "'''\n",
    "for column in throughput.columns:\n",
    "    throughput[column] = (200_000_000/throughput.index) * (1000_000_000.0 / throughput[column])\n",
    "    throughput[column +\"_sj-rel\"] = (throughput[column] - throughput[\"sj\"] / throughput[\"sj\"]) * 100.0\n",
    "print(throughput)\n",
    "overall_duration[[\"btree2048\", \"btree1024\", \"btree256\", \"sj\"]].plot() \n",
    "overall_duration[[\"pgm128\", \"pgm512\", \"pgm1024\", \"sj\"]].plot() \n",
    "'''"
   ]
  },
  {
   "cell_type": "code",
   "execution_count": null,
   "metadata": {},
   "outputs": [
    {
     "name": "stdout",
     "output_type": "stream",
     "text": [
      "spec.algo_name   flatpgm1024  flatpgm2048  flatpgm256  pgm1024  pgm2048  \\\n",
      "spec.common_key                                                           \n",
      "1                       3859         2145        9646     3859     2145   \n",
      "5                       3858         2144        9644     3858     2144   \n",
      "10                      3858         2144        9643     3858     2144   \n",
      "50                      3857         2143        9520     3857     2143   \n",
      "100                     3846         2143        9090     3846     2143   \n",
      "500                     3383         2058        5532     3383     2058   \n",
      "1000                    2631         1856        3537     2631     1856   \n",
      "\n",
      "spec.algo_name   pgm256     sj  \n",
      "spec.common_key                 \n",
      "1                  9646  19289  \n",
      "5                  9644  19289  \n",
      "10                 9643  19289  \n",
      "50                 9520  19288  \n",
      "100                9090  19288  \n",
      "500                5532  19285  \n",
      "1000               3537  19282  \n",
      "spec.algo_name   flatpgm1024  flatpgm2048  flatpgm256   pgm1024   pgm2048  \\\n",
      "spec.common_key                                                             \n",
      "1                   79003904     79003904    79003856  79003904  79003904   \n",
      "5                   79003904     79003904    79001184  79003904  79003904   \n",
      "10                  79003056     79003536    78987632  79003056  79003536   \n",
      "50                  78976304     78998976    77986896  78976304  78998976   \n",
      "100                 78766080     78994512    74463184  78766080  78994512   \n",
      "500                 69283840     75861120    45318144  69283840  75861120   \n",
      "1000                53882880     68419584    28975104  53882880  68419584   \n",
      "\n",
      "spec.algo_name     pgm256        sj  \n",
      "spec.common_key                      \n",
      "1                79003856  79003904  \n",
      "5                79001184  79003904  \n",
      "10               78987632  79003904  \n",
      "50               77986896  79003648  \n",
      "100              74463184  79003648  \n",
      "500              45318144  78991360  \n",
      "1000             28975104  78979072  \n",
      "spec.algo_name   flatpgm1024  flatpgm2048  flatpgm256  pgm1024  pgm2048  \\\n",
      "spec.common_key                                                           \n",
      "1                      20480        36864        8192    20480    36864   \n",
      "5                      20480        36864        8192    20480    36864   \n",
      "10                     20480        36864        8192    20480    36864   \n",
      "50                     20480        36864        8192    20480    36864   \n",
      "100                    20480        36864        8192    20480    36864   \n",
      "500                    20480        36864        8192    20480    36864   \n",
      "1000                   20480        36864        8192    20480    36864   \n",
      "\n",
      "spec.algo_name   pgm256    sj  \n",
      "spec.common_key                \n",
      "1                  8192  4096  \n",
      "5                  8192  4096  \n",
      "10                 8192  4096  \n",
      "50                 8192  4096  \n",
      "100                8192  4096  \n",
      "500                8192  4096  \n",
      "1000               8192  4096  \n"
     ]
    }
   ],
   "source": [
    "inner_index_fetch = test_dataframe.pivot_table(index='spec.common_key', columns='spec.algo_name', values='result.inner_disk_fetch', aggfunc='median')\n",
    "inner_index_total_fetch = test_dataframe.pivot_table(index='spec.common_key', columns='spec.algo_name', values='result.inner_total_bytes_fetched', aggfunc='median')\n",
    "inner_index_fetch_size = test_dataframe.pivot_table(index='spec.common_key', columns='spec.algo_name', values='result.inner_disk_fetch_size', aggfunc='median')\n",
    "print(inner_index_fetch)\n",
    "print(inner_index_total_fetch)\n",
    "print(inner_index_fetch_size)"
   ]
  },
  {
   "cell_type": "code",
   "execution_count": null,
   "metadata": {},
   "outputs": [
    {
     "name": "stdout",
     "output_type": "stream",
     "text": [
      "common_key: 1 checksum: ['EBE477F42A56C7BAD052D1F07193AD19'] OK\n",
      "common_key: 5 checksum: ['A2C5CE0B6CB9246BEA6692ECC6AB2A41'] OK\n",
      "common_key: 10 checksum: ['54B89256C7283C22AE9502BF9A80CE88'] OK\n",
      "common_key: 50 checksum: ['889FDD67E269850445B46706A0F654F4'] OK\n",
      "common_key: 100 checksum: ['F0C48A379AB3E1502BA32E58CBFF614A'] OK\n",
      "common_key: 500 checksum: ['04C3CE8418C53F4CEBE462719E957C38'] OK\n",
      "common_key: 1000 checksum: ['0954B5E06575449843E15BB63B85353C'] OK\n",
      "    spec.common_key spec.algo_name                   result.checksum\n",
      "20              100    flatpgm1024  F0C48A379AB3E1502BA32E58CBFF614A\n",
      "47              100    flatpgm1024  F0C48A379AB3E1502BA32E58CBFF614A\n",
      "67              100    flatpgm2048  F0C48A379AB3E1502BA32E58CBFF614A\n",
      "83              100    flatpgm2048  F0C48A379AB3E1502BA32E58CBFF614A\n",
      "2               100     flatpgm256  F0C48A379AB3E1502BA32E58CBFF614A\n",
      "45              100     flatpgm256  F0C48A379AB3E1502BA32E58CBFF614A\n",
      "50              100        pgm1024  F0C48A379AB3E1502BA32E58CBFF614A\n",
      "52              100        pgm1024  F0C48A379AB3E1502BA32E58CBFF614A\n",
      "31              100        pgm2048  F0C48A379AB3E1502BA32E58CBFF614A\n",
      "87              100        pgm2048  F0C48A379AB3E1502BA32E58CBFF614A\n",
      "73              100         pgm256  F0C48A379AB3E1502BA32E58CBFF614A\n",
      "82              100         pgm256  F0C48A379AB3E1502BA32E58CBFF614A\n",
      "17              100             sj  F0C48A379AB3E1502BA32E58CBFF614A\n",
      "34              100             sj  F0C48A379AB3E1502BA32E58CBFF614A\n",
      "['F0C48A379AB3E1502BA32E58CBFF614A']\n"
     ]
    }
   ],
   "source": [
    "result_checksum = (test_dataframe[['spec.common_key', 'spec.algo_name', 'result.checksum']].sort_values(by=['spec.common_key', 'spec.algo_name'])) #.loc[test_dataframe['spec.common_key']=='10'])\n",
    "for common_key in sorted(test_dataframe['spec.common_key'].unique()):\n",
    "    checksums = result_checksum.loc[result_checksum['spec.common_key'] == common_key]\n",
    "    unique_checksums = checksums['result.checksum'].unique()\n",
    "    if (len(unique_checksums) == 1):\n",
    "        print(f\"common_key: {common_key} checksum: {unique_checksums} OK\")\n",
    "    else:\n",
    "        print(f\"common_key: {common_key} checksums don't match\")\n",
    "print(result_checksum.loc[result_checksum['spec.common_key'] == 100])\n",
    "print(result_checksum.loc[result_checksum['spec.common_key'] == 100]['result.checksum'].unique())"
   ]
  }
 ],
 "metadata": {
  "kernelspec": {
   "display_name": "Python 3 (ipykernel)",
   "language": "python",
   "name": "python3"
  },
  "language_info": {
   "codemirror_mode": {
    "name": "ipython",
    "version": 3
   },
   "file_extension": ".py",
   "mimetype": "text/x-python",
   "name": "python",
   "nbconvert_exporter": "python",
   "pygments_lexer": "ipython3",
   "version": "3.8.10"
  },
  "orig_nbformat": 4
 },
 "nbformat": 4,
 "nbformat_minor": 2
}
