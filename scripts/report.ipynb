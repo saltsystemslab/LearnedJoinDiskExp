{
 "cells": [
  {
   "cell_type": "code",
   "execution_count": 31,
   "metadata": {},
   "outputs": [
    {
     "name": "stdout",
     "output_type": "stream",
     "text": [
      "['/home/chesetti/Repos/KVector_Merge/sponge/fb_join_small_1/outputs/results/run2', '/home/chesetti/Repos/KVector_Merge/sponge/fb_join_small_1/outputs/results/run1', '/home/chesetti/Repos/KVector_Merge/sponge/fb_join_small_1/outputs/results/run0']\n"
     ]
    }
   ],
   "source": [
    "import os;\n",
    "import json;\n",
    "import builtins\n",
    "import pandas as pd;\n",
    "\n",
    "dir = '/home/chesetti/Repos/KVector_Merge/sponge'\n",
    "testcase = 'books_join_small_1'\n",
    "test_dir = os.path.join(dir, testcase)\n",
    "results_dir = os.path.join(test_dir, 'outputs', 'results')\n",
    "csv_dir = os.path.join(test_dir, 'csv')\n",
    "os.makedirs(csv_dir, exist_ok=True)\n",
    "\n",
    "runs = [os.path.join(results_dir, run) for run in os.listdir(results_dir)]\n",
    "print(runs)"
   ]
  },
  {
   "cell_type": "code",
   "execution_count": 32,
   "metadata": {},
   "outputs": [
    {
     "name": "stdout",
     "output_type": "stream",
     "text": [
      "Index(['command', 'run', 'result.checksum', 'result.duration_ns',\n",
      "       'result.duration_sec', 'result.inner_disk_fetch',\n",
      "       'result.inner_index_build_duration_ns', 'result.inner_index_size',\n",
      "       'result.outer_disk_fetch', 'result.outer_index_build_duration',\n",
      "       'result.outer_index_size', 'spec.algo', 'spec.algo_name',\n",
      "       'spec.common_key', 'spec.index.type', 'spec.inner_table',\n",
      "       'spec.key_size', 'spec.key_type', 'spec.load_sstable_in_mem',\n",
      "       'spec.name', 'spec.num_threads', 'spec.outer_table', 'spec.result_path',\n",
      "       'spec.value_size', 'spec.write_result_to_disk',\n",
      "       'spec.index.leaf_size_in_pages'],\n",
      "      dtype='object')\n"
     ]
    }
   ],
   "source": [
    "# Walk all the json files and put them in a dataframe\n",
    "\n",
    "test_results = []\n",
    "for run in runs:\n",
    "    for test_result_file in os.listdir(run):\n",
    "        json_file = builtins.open(os.path.join(run, test_result_file))\n",
    "        test_result = json.load(json_file)\n",
    "        test_result['run'] = run\n",
    "        test_results.append(test_result)\n",
    "        json_file.close()\n",
    "test_dataframe = pd.json_normalize(test_results)\n",
    "print(test_dataframe.columns)\n",
    "\n",
    "        "
   ]
  },
  {
   "attachments": {},
   "cell_type": "markdown",
   "metadata": {},
   "source": [
    "# Reports"
   ]
  },
  {
   "attachments": {},
   "cell_type": "markdown",
   "metadata": {},
   "source": [
    "### Overall Duration"
   ]
  },
  {
   "cell_type": "code",
   "execution_count": 33,
   "metadata": {},
   "outputs": [
    {
     "name": "stdout",
     "output_type": "stream",
     "text": [
      "spec.algo_name   btree_1page  btree_2page  btree_4page   pgm1024    pgm128  \\\n",
      "spec.common_key                                                              \n",
      "10                  18805756     17290803     16291594  17292097  13838773   \n",
      "20                  12085448     10336360      9421767  12972155   9379264   \n",
      "30                  10216891      7938393      7132877  11466507   8057949   \n",
      "40                   8750128      6840844      6057255  10943163   7593219   \n",
      "50                   8167564      6215304      5339063  10428474   7093966   \n",
      "60                   7665669      5752662      4881415  10121175   6747487   \n",
      "70                   7185393      5460966      4543458   9743861   6464019   \n",
      "80                   7036071      5263280      4417902   9348218   6222014   \n",
      "90                   6539365      5033676      4228280   9135145   6151043   \n",
      "100                  6391858      4867042      4080282   8882520   5898021   \n",
      "\n",
      "spec.algo_name     pgm256    pgm512     pgm64        sj       sj2  \n",
      "spec.common_key                                                    \n",
      "10               14606618  15319480  14139391  16943560  17063856  \n",
      "20               10250607  11130348   9751832  15370949  15416350  \n",
      "30                8831364   9655465   8378391  15113237  14628799  \n",
      "40                7946563   9040542   7559693  14419740  14349574  \n",
      "50                7602538   8387192   7292830  14190965  14401897  \n",
      "60                7360011   8153128   6852303  14159100  14146346  \n",
      "70                7138247   7950747   6889750  14306594  14025202  \n",
      "80                6672346   7576905   6356617  13974879  14026890  \n",
      "90                6724652   7344116   6356408  13996700  14195303  \n",
      "100               6374239   7352485   5996739  14153980  14255670  \n"
     ]
    }
   ],
   "source": [
    "overall_duration = test_dataframe.pivot_table(index='spec.common_key', columns='spec.algo_name', values='result.duration_ns', aggfunc='median')\n",
    "overall_duration.to_csv(os.path.join(csv_dir, 'duration_sec.csv'))\n",
    "print(overall_duration)"
   ]
  },
  {
   "cell_type": "code",
   "execution_count": 34,
   "metadata": {},
   "outputs": [
    {
     "name": "stdout",
     "output_type": "stream",
     "text": [
      "       indexes  memory_bytes\n",
      "0  btree_1page       70032.0\n",
      "1  btree_2page       37072.0\n",
      "2  btree_4page       20592.0\n",
      "3      pgm1024         120.0\n",
      "4       pgm128        1128.0\n",
      "5       pgm256         328.0\n",
      "6       pgm512         168.0\n",
      "7        pgm64        4064.0\n"
     ]
    }
   ],
   "source": [
    "inner_index_size = test_dataframe.pivot_table(index='spec.common_key', columns='spec.algo_name', values='result.inner_index_size', aggfunc='median')\n",
    "data = {}\n",
    "data['indexes'] = []\n",
    "data['memory_bytes'] = []\n",
    "for index in inner_index_size:\n",
    "    data['indexes'].append(index)\n",
    "    data['memory_bytes'].append(inner_index_size[index].mean())\n",
    "inner_index_size = pd.DataFrame(data=data)\n",
    "inner_index_size.to_csv(os.path.join(csv_dir, 'inner_index_size.csv'))\n",
    "print(inner_index_size)"
   ]
  },
  {
   "cell_type": "code",
   "execution_count": 35,
   "metadata": {},
   "outputs": [],
   "source": [
    "inner_index_build_duration = test_dataframe.pivot_table(index='spec.common_key', columns='spec.algo_name', values='result.inner_index_build_duration_ns', aggfunc='median')\n",
    "data = {}\n",
    "data['indexes'] = []\n",
    "data['build_duration'] = []\n",
    "for index in inner_index_build_duration:\n",
    "    data['indexes'].append(index)\n",
    "    data['build_duration'].append(inner_index_build_duration[index].mean())\n",
    "inner_index_build_duration = pd.DataFrame(data=data)\n",
    "inner_index_build_duration.to_csv(os.path.join(csv_dir, 'inner_index_build_duration_ns.csv'))"
   ]
  },
  {
   "cell_type": "code",
   "execution_count": 36,
   "metadata": {},
   "outputs": [
    {
     "name": "stdout",
     "output_type": "stream",
     "text": [
      "spec.algo_name   btree_1page  btree_2page  btree_4page  pgm1024  pgm128  \\\n",
      "spec.common_key                                                           \n",
      "10                      3896         1948          974     3890    3897   \n",
      "20                      3896         1948          974     3890    3896   \n",
      "30                      3894         1948          974     3889    3897   \n",
      "40                      3887         1948          974     3883    3882   \n",
      "50                      3874         1948          974     3865    3860   \n",
      "60                      3848         1946          974     3824    3826   \n",
      "70                      3789         1946          974     3771    3773   \n",
      "80                      3731         1942          974     3741    3725   \n",
      "90                      3647         1943          974     3652    3661   \n",
      "100                     3597         1935          974     3589    3604   \n",
      "\n",
      "spec.algo_name   pgm256  pgm512  pgm64    sj   sj2  \n",
      "spec.common_key                                     \n",
      "10                 3892    3893   3897  3897  3897  \n",
      "20                 3892    3893   3896  3897  3897  \n",
      "30                 3890    3893   3897  3897  3897  \n",
      "40                 3884    3882   3888  3897  3897  \n",
      "50                 3870    3857   3874  3897  3897  \n",
      "60                 3828    3828   3831  3897  3897  \n",
      "70                 3771    3783   3771  3897  3897  \n",
      "80                 3728    3726   3733  3896  3896  \n",
      "90                 3661    3658   3658  3897  3897  \n",
      "100                3601    3602   3592  3897  3897  \n"
     ]
    }
   ],
   "source": [
    "inner_index_fetch = test_dataframe.pivot_table(index='spec.common_key', columns='spec.algo_name', values='result.inner_disk_fetch', aggfunc='median')\n",
    "print(inner_index_fetch)"
   ]
  },
  {
   "cell_type": "code",
   "execution_count": 37,
   "metadata": {},
   "outputs": [
    {
     "name": "stdout",
     "output_type": "stream",
     "text": [
      "common_key: 10 checksum: ['B1AE56F68540653EBFB1A9DCFFDEFFAE'] OK\n",
      "common_key: 20 checksum: ['2685906541017A324208E4280A9635B4'] OK\n",
      "common_key: 30 checksum: ['2108CDE32BFD93412363270BE08D00BC'] OK\n",
      "common_key: 40 checksum: ['6441AB3EE55D1AF00C40E1EBFFC10FF1'] OK\n",
      "common_key: 50 checksum: ['A8A7F78FFE9E90347263CDF232D94301'] OK\n",
      "common_key: 60 checksum: ['499EBC47F3CB77C543481910789034CC'] OK\n",
      "common_key: 70 checksum: ['15B70C8C0AA017A29672DE65D2BEB6AE'] OK\n",
      "common_key: 80 checksum: ['0EBE2F95AC58F2B18B619673288AC5E8'] OK\n",
      "common_key: 90 checksum: ['46A2523D6FD3C6253DDCFC691988BD3C'] OK\n",
      "common_key: 100 checksum: ['CF78C259FC3B13F7D80482AFC5E18489'] OK\n",
      "     spec.common_key spec.algo_name                   result.checksum\n",
      "39                30    btree_1page  2108CDE32BFD93412363270BE08D00BC\n",
      "139               30    btree_1page  2108CDE32BFD93412363270BE08D00BC\n",
      "239               30    btree_1page  2108CDE32BFD93412363270BE08D00BC\n",
      "4                 30    btree_2page  2108CDE32BFD93412363270BE08D00BC\n",
      "104               30    btree_2page  2108CDE32BFD93412363270BE08D00BC\n",
      "204               30    btree_2page  2108CDE32BFD93412363270BE08D00BC\n",
      "26                30    btree_4page  2108CDE32BFD93412363270BE08D00BC\n",
      "126               30    btree_4page  2108CDE32BFD93412363270BE08D00BC\n",
      "226               30    btree_4page  2108CDE32BFD93412363270BE08D00BC\n",
      "60                30        pgm1024  2108CDE32BFD93412363270BE08D00BC\n",
      "160               30        pgm1024  2108CDE32BFD93412363270BE08D00BC\n",
      "260               30        pgm1024  2108CDE32BFD93412363270BE08D00BC\n",
      "50                30         pgm128  2108CDE32BFD93412363270BE08D00BC\n",
      "150               30         pgm128  2108CDE32BFD93412363270BE08D00BC\n",
      "250               30         pgm128  2108CDE32BFD93412363270BE08D00BC\n",
      "88                30         pgm256  2108CDE32BFD93412363270BE08D00BC\n",
      "188               30         pgm256  2108CDE32BFD93412363270BE08D00BC\n",
      "288               30         pgm256  2108CDE32BFD93412363270BE08D00BC\n",
      "9                 30         pgm512  2108CDE32BFD93412363270BE08D00BC\n",
      "109               30         pgm512  2108CDE32BFD93412363270BE08D00BC\n",
      "209               30         pgm512  2108CDE32BFD93412363270BE08D00BC\n",
      "1                 30          pgm64  2108CDE32BFD93412363270BE08D00BC\n",
      "101               30          pgm64  2108CDE32BFD93412363270BE08D00BC\n",
      "201               30          pgm64  2108CDE32BFD93412363270BE08D00BC\n",
      "95                30             sj  2108CDE32BFD93412363270BE08D00BC\n",
      "195               30             sj  2108CDE32BFD93412363270BE08D00BC\n",
      "295               30             sj  2108CDE32BFD93412363270BE08D00BC\n",
      "5                 30            sj2  2108CDE32BFD93412363270BE08D00BC\n",
      "105               30            sj2  2108CDE32BFD93412363270BE08D00BC\n",
      "205               30            sj2  2108CDE32BFD93412363270BE08D00BC\n",
      "['2108CDE32BFD93412363270BE08D00BC']\n"
     ]
    }
   ],
   "source": [
    "result_checksum = (test_dataframe[['spec.common_key', 'spec.algo_name', 'result.checksum']].sort_values(by=['spec.common_key', 'spec.algo_name'])) #.loc[test_dataframe['spec.common_key']=='10'])\n",
    "for common_key in sorted(test_dataframe['spec.common_key'].unique()):\n",
    "    checksums = result_checksum.loc[result_checksum['spec.common_key'] == common_key]\n",
    "    unique_checksums = checksums['result.checksum'].unique()\n",
    "    if (len(unique_checksums) == 1):\n",
    "        print(f\"common_key: {common_key} checksum: {unique_checksums} OK\")\n",
    "    else:\n",
    "        print(f\"common_key: {common_key} checksums don't match\")\n",
    "print(result_checksum.loc[result_checksum['spec.common_key'] == 30])\n",
    "print(result_checksum.loc[result_checksum['spec.common_key'] == 30]['result.checksum'].unique())"
   ]
  },
  {
   "cell_type": "code",
   "execution_count": null,
   "metadata": {},
   "outputs": [],
   "source": []
  }
 ],
 "metadata": {
  "kernelspec": {
   "display_name": "Python 3 (ipykernel)",
   "language": "python",
   "name": "python3"
  },
  "language_info": {
   "codemirror_mode": {
    "name": "ipython",
    "version": 3
   },
   "file_extension": ".py",
   "mimetype": "text/x-python",
   "name": "python",
   "nbconvert_exporter": "python",
   "pygments_lexer": "ipython3",
   "version": "3.10.12"
  },
  "orig_nbformat": 4
 },
 "nbformat": 4,
 "nbformat_minor": 2
}
