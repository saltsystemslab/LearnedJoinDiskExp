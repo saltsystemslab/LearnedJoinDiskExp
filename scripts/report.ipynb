{
 "cells": [
  {
   "cell_type": "code",
   "execution_count": 141,
   "metadata": {},
   "outputs": [
    {
     "name": "stdout",
     "output_type": "stream",
     "text": [
      "['/home/chesetti/Repos/learned_merge_cleanup/sponge/osm_join_small_1/outputs/results/run0', '/home/chesetti/Repos/learned_merge_cleanup/sponge/osm_join_small_1/outputs/results/run1', '/home/chesetti/Repos/learned_merge_cleanup/sponge/osm_join_small_1/outputs/results/run2']\n"
     ]
    }
   ],
   "source": [
    "import os;\n",
    "import json;\n",
    "import builtins\n",
    "import pandas as pd;\n",
    "\n",
    "dir = '/home/chesetti/Repos/learned_merge_cleanup/sponge'\n",
    "testcase = 'osm_join_small_1'\n",
    "test_dir = os.path.join(dir, testcase)\n",
    "results_dir = os.path.join(test_dir, 'outputs', 'results')\n",
    "csv_dir = os.path.join(test_dir, 'csv')\n",
    "os.makedirs(csv_dir, exist_ok=True)\n",
    "\n",
    "runs = [os.path.join(results_dir, run) for run in os.listdir(results_dir)]\n",
    "print(runs)"
   ]
  },
  {
   "cell_type": "code",
   "execution_count": null,
   "metadata": {},
   "outputs": [
    {
     "name": "stdout",
     "output_type": "stream",
     "text": [
      "Index(['command', 'run', 'result.checksum', 'result.duration_ns',\n",
      "       'result.duration_sec', 'result.inner_disk_fetch',\n",
      "       'result.inner_index_build_duration_ns', 'result.inner_index_size',\n",
      "       'result.outer_disk_fetch', 'result.outer_index_build_duration',\n",
      "       'result.outer_index_size', 'spec.algo', 'spec.algo_name',\n",
      "       'spec.common_key', 'spec.index.type', 'spec.inner_table',\n",
      "       'spec.key_size', 'spec.key_type', 'spec.load_sstable_in_mem',\n",
      "       'spec.name', 'spec.num_threads', 'spec.outer_table', 'spec.result_path',\n",
      "       'spec.value_size', 'spec.write_result_to_disk',\n",
      "       'spec.index.leaf_size_in_pages'],\n",
      "      dtype='object')\n"
     ]
    }
   ],
   "source": [
    "# Walk all the json files and put them in a dataframe\n",
    "\n",
    "test_results = []\n",
    "for run in runs:\n",
    "    for test_result_file in os.listdir(run):\n",
    "        json_file = builtins.open(os.path.join(run, test_result_file))\n",
    "        test_result = json.load(json_file)\n",
    "        test_result['run'] = run\n",
    "        test_results.append(test_result)\n",
    "        json_file.close()\n",
    "test_dataframe = pd.json_normalize(test_results)\n",
    "print(test_dataframe.columns)\n",
    "\n",
    "        "
   ]
  },
  {
   "attachments": {},
   "cell_type": "markdown",
   "metadata": {},
   "source": [
    "# Reports"
   ]
  },
  {
   "attachments": {},
   "cell_type": "markdown",
   "metadata": {},
   "source": [
    "### Overall Duration"
   ]
  },
  {
   "cell_type": "code",
   "execution_count": null,
   "metadata": {},
   "outputs": [
    {
     "name": "stdout",
     "output_type": "stream",
     "text": [
      "spec.algo_name   btree_1page  btree_2page  btree_4page   pgm1024    pgm128  \\\n",
      "spec.common_key                                                              \n",
      "10                  41676380     40690489     40077542  38437773  32109143   \n",
      "20                  30153093     27965332     28761239  31811786  23225935   \n",
      "30                  24662293     22495130     21760602  27949996  18927381   \n",
      "40                  21946629     19075091     18850344  27267656  16821837   \n",
      "50                  20408562     17230961     17135105  25744539  15882820   \n",
      "60                  18203819     16357186     15391568  24927726  15331196   \n",
      "70                  16737289     15120268     14050359  23440757  14427015   \n",
      "80                  15943737     13992025     13026946  22801559  13480076   \n",
      "90                  15371795     13365125     12247476  22615326  13211882   \n",
      "100                 15140680     12773008     11803872  21422115  12702784   \n",
      "\n",
      "spec.algo_name     pgm256    pgm512     pgm64        sj       sj2  \n",
      "spec.common_key                                                    \n",
      "10               31342781  33616820  32961925  41220294  40330681  \n",
      "20               22346779  25539854  23511851  38906120  38072731  \n",
      "30               20269694  21323712  20294392  36966503  37038896  \n",
      "40               16976319  19820916  17488014  36941254  36488092  \n",
      "50               16734224  19046210  15779004  35778721  36274887  \n",
      "60               15615027  17279337  15658569  35953358  35298513  \n",
      "70               14348127  17040826  14713469  34845923  36060798  \n",
      "80               14119403  16504349  14076151  36091218  36287266  \n",
      "90               14033549  15936319  13479915  35671116  35699987  \n",
      "100              12953824  14865086  12953192  35467459  35060093  \n"
     ]
    }
   ],
   "source": [
    "overall_duration = test_dataframe.pivot_table(index='spec.common_key', columns='spec.algo_name', values='result.duration_ns', aggfunc='median')\n",
    "overall_duration.to_csv(os.path.join(csv_dir, 'duration_sec.csv'))\n",
    "print(overall_duration)"
   ]
  },
  {
   "cell_type": "code",
   "execution_count": 154,
   "metadata": {},
   "outputs": [
    {
     "name": "stdout",
     "output_type": "stream",
     "text": [
      "       indexes  memory_bytes\n",
      "0  btree_1page       70032.0\n",
      "1  btree_2page       37072.0\n",
      "2  btree_4page       20592.0\n",
      "3      pgm1024        2320.0\n",
      "4       pgm128       16328.0\n",
      "5       pgm256        8480.0\n",
      "6       pgm512        4352.0\n",
      "7        pgm64       31400.0\n"
     ]
    }
   ],
   "source": [
    "inner_index_size = test_dataframe.pivot_table(index='spec.common_key', columns='spec.algo_name', values='result.inner_index_size', aggfunc='median')\n",
    "data = {}\n",
    "data['indexes'] = []\n",
    "data['memory_bytes'] = []\n",
    "for index in inner_index_size:\n",
    "    data['indexes'].append(index)\n",
    "    data['memory_bytes'].append(inner_index_size[index].mean())\n",
    "inner_index_size = pd.DataFrame(data=data)\n",
    "inner_index_size.to_csv(os.path.join(csv_dir, 'inner_index_size.csv'))\n",
    "print(inner_index_size)"
   ]
  },
  {
   "cell_type": "code",
   "execution_count": null,
   "metadata": {},
   "outputs": [],
   "source": [
    "inner_index_build_duration = test_dataframe.pivot_table(index='spec.common_key', columns='spec.algo_name', values='result.inner_index_build_duration_ns', aggfunc='median')\n",
    "data = {}\n",
    "data['indexes'] = []\n",
    "data['build_duration'] = []\n",
    "for index in inner_index_build_duration:\n",
    "    data['indexes'].append(index)\n",
    "    data['build_duration'].append(inner_index_build_duration[index].mean())\n",
    "inner_index_build_duration = pd.DataFrame(data=data)\n",
    "inner_index_build_duration.to_csv(os.path.join(csv_dir, 'inner_index_build_duration_ns.csv'))"
   ]
  },
  {
   "cell_type": "code",
   "execution_count": null,
   "metadata": {},
   "outputs": [
    {
     "name": "stdout",
     "output_type": "stream",
     "text": [
      "spec.algo_name   btree_1page  btree_2page  btree_4page  pgm1024  pgm128  \\\n",
      "spec.common_key                                                           \n",
      "10                      3903         1951          975     3282    3896   \n",
      "20                      3903         1951          975     3200    3887   \n",
      "30                      3902         1951          975     3135    3865   \n",
      "40                      3899         1951          975     3073    3809   \n",
      "50                      3880         1951          975     3017    3792   \n",
      "60                      3850         1950          975     2937    3717   \n",
      "70                      3797         1950          975     2854    3646   \n",
      "80                      3729         1949          975     2795    3566   \n",
      "90                      3647         1945          975     2722    3521   \n",
      "100                     3576         1943          975     2648    3400   \n",
      "\n",
      "spec.algo_name   pgm256  pgm512  pgm64    sj   sj2  \n",
      "spec.common_key                                     \n",
      "10                 3691    3481   3904  3904  3904  \n",
      "20                 3653    3427   3904  3904  3904  \n",
      "30                 3609    3378   3904  3904  3904  \n",
      "40                 3554    3309   3889  3904  3904  \n",
      "50                 3512    3262   3880  3904  3904  \n",
      "60                 3449    3183   3840  3904  3904  \n",
      "70                 3361    3101   3764  3904  3904  \n",
      "80                 3283    3024   3716  3904  3904  \n",
      "90                 3218    2972   3628  3904  3904  \n",
      "100                3131    2865   3548  3904  3904  \n"
     ]
    }
   ],
   "source": [
    "inner_index_fetch = test_dataframe.pivot_table(index='spec.common_key', columns='spec.algo_name', values='result.inner_disk_fetch', aggfunc='median')\n",
    "print(inner_index_fetch)"
   ]
  },
  {
   "cell_type": "code",
   "execution_count": 143,
   "metadata": {},
   "outputs": [
    {
     "name": "stdout",
     "output_type": "stream",
     "text": [
      "common_key: 10 checksums don't match\n",
      "common_key: 20 checksum: ['6B5439DA4F484C4C0DCFABD6AB6F2D2A'] OK\n",
      "common_key: 30 checksums don't match\n",
      "common_key: 40 checksum: ['E0078BDC49A86965006193905C392F63'] OK\n",
      "common_key: 50 checksum: ['DE05035C7EA40B5B9447602CB5075768'] OK\n",
      "common_key: 60 checksum: ['C8D4C8C21A57FB0020BA0A0EC81F85A7'] OK\n",
      "common_key: 70 checksum: ['FA7542F3E03097C8168A2D268C01BA0D'] OK\n",
      "common_key: 80 checksum: ['EDD76F678D96E487E2D8DA1F5F1BB5C8'] OK\n",
      "common_key: 90 checksum: ['2E9A96243F4D65D4A1AC356ADA3B7BF8'] OK\n",
      "common_key: 100 checksum: ['24A07FF9357C9ABBB64688C560D08177'] OK\n",
      "     spec.common_key spec.algo_name                   result.checksum\n",
      "47                30    btree_1page  B482C906A3A265DC0FD1728D68A78C41\n",
      "147               30    btree_1page  B482C906A3A265DC0FD1728D68A78C41\n",
      "247               30    btree_1page  B482C906A3A265DC0FD1728D68A78C41\n",
      "18                30    btree_2page  B482C906A3A265DC0FD1728D68A78C41\n",
      "118               30    btree_2page  B482C906A3A265DC0FD1728D68A78C41\n",
      "218               30    btree_2page  B482C906A3A265DC0FD1728D68A78C41\n",
      "74                30    btree_4page  A66A148AE0976E33F7D86A86B6EBBA50\n",
      "174               30    btree_4page  A66A148AE0976E33F7D86A86B6EBBA50\n",
      "274               30    btree_4page  A66A148AE0976E33F7D86A86B6EBBA50\n",
      "9                 30        pgm1024  B482C906A3A265DC0FD1728D68A78C41\n",
      "109               30        pgm1024  B482C906A3A265DC0FD1728D68A78C41\n",
      "209               30        pgm1024  B482C906A3A265DC0FD1728D68A78C41\n",
      "53                30         pgm128  B482C906A3A265DC0FD1728D68A78C41\n",
      "153               30         pgm128  B482C906A3A265DC0FD1728D68A78C41\n",
      "253               30         pgm128  B482C906A3A265DC0FD1728D68A78C41\n",
      "71                30         pgm256  B482C906A3A265DC0FD1728D68A78C41\n",
      "171               30         pgm256  B482C906A3A265DC0FD1728D68A78C41\n",
      "271               30         pgm256  B482C906A3A265DC0FD1728D68A78C41\n",
      "45                30         pgm512  B482C906A3A265DC0FD1728D68A78C41\n",
      "145               30         pgm512  B482C906A3A265DC0FD1728D68A78C41\n",
      "245               30         pgm512  B482C906A3A265DC0FD1728D68A78C41\n",
      "32                30          pgm64  B482C906A3A265DC0FD1728D68A78C41\n",
      "132               30          pgm64  B482C906A3A265DC0FD1728D68A78C41\n",
      "232               30          pgm64  B482C906A3A265DC0FD1728D68A78C41\n",
      "97                30             sj  B482C906A3A265DC0FD1728D68A78C41\n",
      "197               30             sj  B482C906A3A265DC0FD1728D68A78C41\n",
      "297               30             sj  B482C906A3A265DC0FD1728D68A78C41\n",
      "38                30            sj2  B482C906A3A265DC0FD1728D68A78C41\n",
      "138               30            sj2  B482C906A3A265DC0FD1728D68A78C41\n",
      "238               30            sj2  B482C906A3A265DC0FD1728D68A78C41\n",
      "['B482C906A3A265DC0FD1728D68A78C41' 'A66A148AE0976E33F7D86A86B6EBBA50']\n"
     ]
    }
   ],
   "source": [
    "result_checksum = (test_dataframe[['spec.common_key', 'spec.algo_name', 'result.checksum']].sort_values(by=['spec.common_key', 'spec.algo_name'])) #.loc[test_dataframe['spec.common_key']=='10'])\n",
    "for common_key in sorted(test_dataframe['spec.common_key'].unique()):\n",
    "    checksums = result_checksum.loc[result_checksum['spec.common_key'] == common_key]\n",
    "    unique_checksums = checksums['result.checksum'].unique()\n",
    "    if (len(unique_checksums) == 1):\n",
    "        print(f\"common_key: {common_key} checksum: {unique_checksums} OK\")\n",
    "    else:\n",
    "        print(f\"common_key: {common_key} checksums don't match\")\n",
    "print(result_checksum.loc[result_checksum['spec.common_key'] == 30])\n",
    "print(result_checksum.loc[result_checksum['spec.common_key'] == 30]['result.checksum'].unique())"
   ]
  },
  {
   "cell_type": "code",
   "execution_count": null,
   "metadata": {},
   "outputs": [],
   "source": []
  }
 ],
 "metadata": {
  "kernelspec": {
   "display_name": "Python 3 (ipykernel)",
   "language": "python",
   "name": "python3"
  },
  "language_info": {
   "codemirror_mode": {
    "name": "ipython",
    "version": 3
   },
   "file_extension": ".py",
   "mimetype": "text/x-python",
   "name": "python",
   "nbconvert_exporter": "python",
   "pygments_lexer": "ipython3",
   "version": "3.8.10"
  },
  "orig_nbformat": 4
 },
 "nbformat": 4,
 "nbformat_minor": 2
}
