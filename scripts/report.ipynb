{
 "cells": [
  {
   "cell_type": "code",
   "execution_count": 339,
   "metadata": {},
   "outputs": [
    {
     "name": "stdout",
     "output_type": "stream",
     "text": [
      "['/home/chesetti/Repos/learned_merge_cleanup/sponge/merge_wiki_32/outputs/results/run']\n"
     ]
    }
   ],
   "source": [
    "import os;\n",
    "import json;\n",
    "import builtins\n",
    "import pandas as pd;\n",
    "\n",
    "dir = '/home/chesetti/Repos/learned_merge_cleanup/sponge'\n",
    "testcase = 'merge_wiki_32'\n",
    "test_dir = os.path.join(dir, testcase)\n",
    "results_dir = os.path.join(test_dir, 'outputs', 'results')\n",
    "csv_dir = os.path.join(test_dir, 'csv')\n",
    "os.makedirs(csv_dir, exist_ok=True)\n",
    "\n",
    "runs = [os.path.join(results_dir, run) for run in os.listdir(results_dir)]\n",
    "print(runs)"
   ]
  },
  {
   "cell_type": "code",
   "execution_count": null,
   "metadata": {},
   "outputs": [],
   "source": []
  },
  {
   "cell_type": "code",
   "execution_count": 340,
   "metadata": {},
   "outputs": [
    {
     "name": "stdout",
     "output_type": "stream",
     "text": [
      "Index(['command', 'run', 'result.checksum', 'result.duration_ns',\n",
      "       'result.duration_sec', 'result.inner_disk_fetch',\n",
      "       'result.inner_disk_fetch_size', 'result.inner_index_build_duration_ns',\n",
      "       'result.inner_index_size', 'result.inner_total_bytes_fetched',\n",
      "       'result.outer_disk_fetch', 'result.outer_disk_fetch_size',\n",
      "       'result.outer_total_bytes_fetched', 'spec.algo', 'spec.algo_name',\n",
      "       'spec.common_key', 'spec.index.search', 'spec.index.type',\n",
      "       'spec.inner_table', 'spec.key_size', 'spec.key_type',\n",
      "       'spec.load_sstable_in_mem', 'spec.name', 'spec.num_threads',\n",
      "       'spec.outer_table', 'spec.result_path', 'spec.value_size',\n",
      "       'spec.write_result_to_disk', 'spec.index.leaf_size_in_pages'],\n",
      "      dtype='object')\n"
     ]
    }
   ],
   "source": [
    "# Walk all the json files and put them in a dataframe\n",
    "\n",
    "test_results = []\n",
    "for run in runs:\n",
    "    for test_result_file in os.listdir(run):\n",
    "        json_file = builtins.open(os.path.join(run, test_result_file))\n",
    "        test_result = json.load(json_file)\n",
    "        test_result['run'] = run\n",
    "        test_results.append(test_result)\n",
    "        json_file.close()\n",
    "test_dataframe = pd.json_normalize(test_results)\n",
    "print(test_dataframe.columns)\n",
    "\n",
    "        "
   ]
  },
  {
   "attachments": {},
   "cell_type": "markdown",
   "metadata": {},
   "source": [
    "# Reports"
   ]
  },
  {
   "attachments": {},
   "cell_type": "markdown",
   "metadata": {},
   "source": [
    "### Overall Duration"
   ]
  },
  {
   "cell_type": "code",
   "execution_count": 341,
   "metadata": {},
   "outputs": [
    {
     "name": "stdout",
     "output_type": "stream",
     "text": [
      "spec.algo_name     BTree2048     BTree256      PGM1024       PGM256  \\\n",
      "spec.common_key                                                       \n",
      "10               105582608.0  104155317.0  107238272.5  104753828.0   \n",
      "20               109439588.5  108761898.0  100939565.0  107595273.0   \n",
      "30               108360566.5  101238816.5  107570410.0  130819022.5   \n",
      "40               116812327.0  100969683.0   98783582.5  122706460.5   \n",
      "50               112701997.5  129588661.0   95854628.0  106234143.5   \n",
      "60               108329181.5  100011916.0  107451212.5   98020604.5   \n",
      "70               109174197.5  109197467.5  115708724.5   95586875.0   \n",
      "80               119287339.0  100980165.0  106142527.5   98492262.0   \n",
      "90               102496418.5  114288066.0  102685153.0   95906397.5   \n",
      "100              111134083.0  105019907.0  101758950.5  109602370.5   \n",
      "\n",
      "spec.algo_name   standard_merge  \n",
      "spec.common_key                  \n",
      "10                  103919547.5  \n",
      "20                  103721807.5  \n",
      "30                  101885179.0  \n",
      "40                  102839811.0  \n",
      "50                  106984297.5  \n",
      "60                  116393777.5  \n",
      "70                  108260295.5  \n",
      "80                  111027464.0  \n",
      "90                  106208492.5  \n",
      "100                 102295252.0  \n"
     ]
    }
   ],
   "source": [
    "overall_duration = test_dataframe.pivot_table(index='spec.common_key', columns='spec.algo_name', values='result.duration_ns', aggfunc='median')\n",
    "overall_duration.to_csv(os.path.join(csv_dir, 'duration_sec.csv'))\n",
    "print(overall_duration)"
   ]
  },
  {
   "cell_type": "code",
   "execution_count": 342,
   "metadata": {},
   "outputs": [
    {
     "name": "stdout",
     "output_type": "stream",
     "text": [
      "          indexes  memory_bytes\n",
      "0       BTree2048       20592.0\n",
      "1        BTree256      131832.0\n",
      "2         PGM1024         512.0\n",
      "3          PGM256        2240.0\n",
      "4  standard_merge       68952.0\n"
     ]
    }
   ],
   "source": [
    "inner_index_size = test_dataframe.pivot_table(index='spec.common_key', columns='spec.algo_name', values='result.inner_index_size', aggfunc='median')\n",
    "data = {}\n",
    "data['indexes'] = []\n",
    "data['memory_bytes'] = []\n",
    "for index in inner_index_size:\n",
    "    data['indexes'].append(index)\n",
    "    data['memory_bytes'].append(inner_index_size[index].mean())\n",
    "inner_index_size = pd.DataFrame(data=data)\n",
    "inner_index_size.to_csv(os.path.join(csv_dir, 'inner_index_size.csv'))\n",
    "print(inner_index_size)"
   ]
  },
  {
   "cell_type": "code",
   "execution_count": 343,
   "metadata": {},
   "outputs": [
    {
     "name": "stdout",
     "output_type": "stream",
     "text": [
      "          indexes  build_duration\n",
      "0       BTree2048    3.538446e+07\n",
      "1        BTree256    3.596422e+07\n",
      "2         PGM1024    2.559569e+08\n",
      "3          PGM256    2.672323e+08\n",
      "4  standard_merge    3.156426e+08\n"
     ]
    }
   ],
   "source": [
    "inner_index_build_duration = test_dataframe.pivot_table(index='spec.common_key', columns='spec.algo_name', values='result.inner_index_build_duration_ns', aggfunc='median')\n",
    "data = {}\n",
    "data['indexes'] = []\n",
    "data['build_duration'] = []\n",
    "for index in inner_index_build_duration:\n",
    "    data['indexes'].append(index)\n",
    "    data['build_duration'].append(inner_index_build_duration[index].mean())\n",
    "inner_index_build_duration = pd.DataFrame(data=data)\n",
    "inner_index_build_duration.to_csv(os.path.join(csv_dir, 'inner_index_build_duration_ns.csv'))\n",
    "print(inner_index_build_duration)"
   ]
  },
  {
   "cell_type": "code",
   "execution_count": 344,
   "metadata": {},
   "outputs": [
    {
     "name": "stdout",
     "output_type": "stream",
     "text": [
      "spec.algo_name   BTree2048  BTree256  PGM1024  PGM256  standard_merge\n",
      "spec.common_key                                                      \n",
      "10                    7788      7788     7788    7788            7787\n",
      "20                    7789      7789     7789    7789            7789\n",
      "30                    7789      7789     7789    7789            7789\n",
      "40                    7789      7789     7789    7789            7789\n",
      "50                    7788      7788     7788    7788            7788\n",
      "60                    7789      7789     7789    7789            7789\n",
      "70                    7790      7790     7790    7790            7790\n",
      "80                    7790      7790     7790    7790            7790\n",
      "90                    7790      7790     7790    7790            7790\n",
      "100                   7791      7791     7791    7791            7791\n",
      "spec.algo_name   BTree2048  BTree256   PGM1024    PGM256  standard_merge\n",
      "spec.common_key                                                         \n",
      "10                31892032  31892032  31892032  31892032        31892032\n",
      "20                31902896  31902896  31902896  31902896        31902896\n",
      "30                31903632  31903632  31903632  31903632        31903632\n",
      "40                31901664  31901664  31901664  31901664        31901664\n",
      "50                31898176  31898176  31898176  31898176        31898176\n",
      "60                31900736  31900736  31900736  31900736        31900736\n",
      "70                31904896  31904896  31904896  31904896        31904896\n",
      "80                31906976  31906976  31906976  31906976        31906976\n",
      "90                31904912  31904912  31904912  31904912        31904912\n",
      "100               31911328  31911328  31911328  31911328        31911328\n",
      "spec.algo_name   BTree2048  BTree256  PGM1024  PGM256  standard_merge\n",
      "spec.common_key                                                      \n",
      "10                    4096      4096     4096    4096            4096\n",
      "20                    4096      4096     4096    4096            4096\n",
      "30                    4096      4096     4096    4096            4096\n",
      "40                    4096      4096     4096    4096            4096\n",
      "50                    4096      4096     4096    4096            4096\n",
      "60                    4096      4096     4096    4096            4096\n",
      "70                    4096      4096     4096    4096            4096\n",
      "80                    4096      4096     4096    4096            4096\n",
      "90                    4096      4096     4096    4096            4096\n",
      "100                   4096      4096     4096    4096            4096\n"
     ]
    }
   ],
   "source": [
    "inner_index_fetch = test_dataframe.pivot_table(index='spec.common_key', columns='spec.algo_name', values='result.inner_disk_fetch', aggfunc='median')\n",
    "inner_index_total_fetch = test_dataframe.pivot_table(index='spec.common_key', columns='spec.algo_name', values='result.inner_total_bytes_fetched', aggfunc='median')\n",
    "inner_index_fetch_size = test_dataframe.pivot_table(index='spec.common_key', columns='spec.algo_name', values='result.inner_disk_fetch_size', aggfunc='median')\n",
    "print(inner_index_fetch)\n",
    "print(inner_index_total_fetch)\n",
    "print(inner_index_fetch_size)"
   ]
  },
  {
   "cell_type": "code",
   "execution_count": 345,
   "metadata": {},
   "outputs": [
    {
     "name": "stdout",
     "output_type": "stream",
     "text": [
      "common_key: 10 checksum: ['612555EAE128E3B6AFB7803C14FA793B'] OK\n",
      "common_key: 20 checksum: ['46DCE793FB9F10A874BBDBD5A4752235'] OK\n",
      "common_key: 30 checksum: ['3200D47CF71EF720B63BAE20229CA63D'] OK\n",
      "common_key: 40 checksum: ['E92AD445454F818B82A05F2CBB0E526A'] OK\n",
      "common_key: 50 checksum: ['F1A096C0C6175DB0A3BFA2037E8CE09C'] OK\n",
      "common_key: 60 checksum: ['E0C4A8C986B3201B5849ABF8B63CA3D2'] OK\n",
      "common_key: 70 checksum: ['7E9F194924B2E4A1F02576CC6786931D'] OK\n",
      "common_key: 80 checksum: ['5440BF8D56583135129138B441B0E558'] OK\n",
      "common_key: 90 checksum: ['DE1E999793B23FFB34F73156CE1CDBB5'] OK\n",
      "common_key: 100 checksum: ['AF44563DC06CCCAA3339F95E3EFBADE2'] OK\n",
      "     spec.common_key  spec.algo_name                   result.checksum\n",
      "8                 50       BTree2048  F1A096C0C6175DB0A3BFA2037E8CE09C\n",
      "61                50       BTree2048  F1A096C0C6175DB0A3BFA2037E8CE09C\n",
      "101               50       BTree2048  F1A096C0C6175DB0A3BFA2037E8CE09C\n",
      "195               50       BTree2048  F1A096C0C6175DB0A3BFA2037E8CE09C\n",
      "46                50        BTree256  F1A096C0C6175DB0A3BFA2037E8CE09C\n",
      "51                50        BTree256  F1A096C0C6175DB0A3BFA2037E8CE09C\n",
      "144               50        BTree256  F1A096C0C6175DB0A3BFA2037E8CE09C\n",
      "166               50        BTree256  F1A096C0C6175DB0A3BFA2037E8CE09C\n",
      "1                 50         PGM1024  F1A096C0C6175DB0A3BFA2037E8CE09C\n",
      "49                50         PGM1024  F1A096C0C6175DB0A3BFA2037E8CE09C\n",
      "65                50         PGM1024  F1A096C0C6175DB0A3BFA2037E8CE09C\n",
      "161               50         PGM1024  F1A096C0C6175DB0A3BFA2037E8CE09C\n",
      "62                50          PGM256  F1A096C0C6175DB0A3BFA2037E8CE09C\n",
      "128               50          PGM256  F1A096C0C6175DB0A3BFA2037E8CE09C\n",
      "174               50          PGM256  F1A096C0C6175DB0A3BFA2037E8CE09C\n",
      "177               50          PGM256  F1A096C0C6175DB0A3BFA2037E8CE09C\n",
      "28                50  standard_merge  F1A096C0C6175DB0A3BFA2037E8CE09C\n",
      "163               50  standard_merge  F1A096C0C6175DB0A3BFA2037E8CE09C\n",
      "172               50  standard_merge  F1A096C0C6175DB0A3BFA2037E8CE09C\n",
      "173               50  standard_merge  F1A096C0C6175DB0A3BFA2037E8CE09C\n",
      "['F1A096C0C6175DB0A3BFA2037E8CE09C']\n"
     ]
    }
   ],
   "source": [
    "result_checksum = (test_dataframe[['spec.common_key', 'spec.algo_name', 'result.checksum']].sort_values(by=['spec.common_key', 'spec.algo_name'])) #.loc[test_dataframe['spec.common_key']=='10'])\n",
    "for common_key in sorted(test_dataframe['spec.common_key'].unique()):\n",
    "    checksums = result_checksum.loc[result_checksum['spec.common_key'] == common_key]\n",
    "    unique_checksums = checksums['result.checksum'].unique()\n",
    "    if (len(unique_checksums) == 1):\n",
    "        print(f\"common_key: {common_key} checksum: {unique_checksums} OK\")\n",
    "    else:\n",
    "        print(f\"common_key: {common_key} checksums don't match\")\n",
    "print(result_checksum.loc[result_checksum['spec.common_key'] == 50])\n",
    "print(result_checksum.loc[result_checksum['spec.common_key'] == 50]['result.checksum'].unique())"
   ]
  }
 ],
 "metadata": {
  "kernelspec": {
   "display_name": "Python 3 (ipykernel)",
   "language": "python",
   "name": "python3"
  },
  "language_info": {
   "codemirror_mode": {
    "name": "ipython",
    "version": 3
   },
   "file_extension": ".py",
   "mimetype": "text/x-python",
   "name": "python",
   "nbconvert_exporter": "python",
   "pygments_lexer": "ipython3",
   "version": "3.8.10"
  },
  "orig_nbformat": 4
 },
 "nbformat": 4,
 "nbformat_minor": 2
}
