{
 "cells": [
  {
   "cell_type": "code",
   "execution_count": 162,
   "metadata": {},
   "outputs": [
    {
     "name": "stdout",
     "output_type": "stream",
     "text": [
      "['/home/chesetti/Repos/learned_merge_cleanup/sponge/fb_join-ratio10_1/outputs/results/run0', '/home/chesetti/Repos/learned_merge_cleanup/sponge/fb_join-ratio10_1/outputs/results/run1', '/home/chesetti/Repos/learned_merge_cleanup/sponge/fb_join-ratio10_1/outputs/results/run2']\n"
     ]
    }
   ],
   "source": [
    "import os;\n",
    "import json;\n",
    "import builtins\n",
    "import pandas as pd;\n",
    "\n",
    "dir = '/home/chesetti/Repos/learned_merge_cleanup/sponge'\n",
    "testcase = 'fb_merge-ratio10_1'\n",
    "test_dir = os.path.join(dir, testcase)\n",
    "results_dir = os.path.join(test_dir, 'outputs', 'results')\n",
    "csv_dir = os.path.join(test_dir, 'csv')\n",
    "os.makedirs(csv_dir, exist_ok=True)\n",
    "\n",
    "runs = [os.path.join(results_dir, run) for run in os.listdir(results_dir)]\n",
    "print(runs)"
   ]
  },
  {
   "cell_type": "code",
   "execution_count": 163,
   "metadata": {},
   "outputs": [
    {
     "name": "stdout",
     "output_type": "stream",
     "text": [
      "Index(['command', 'run', 'result.checksum', 'result.duration_ns',\n",
      "       'result.duration_sec', 'result.inner_disk_fetch',\n",
      "       'result.inner_index_build_duration_ns', 'result.inner_index_size',\n",
      "       'result.outer_disk_fetch', 'spec.algo', 'spec.algo_name',\n",
      "       'spec.common_key', 'spec.index.search', 'spec.index.type',\n",
      "       'spec.inner_table', 'spec.key_size', 'spec.key_type',\n",
      "       'spec.load_sstable_in_mem', 'spec.name', 'spec.num_threads',\n",
      "       'spec.outer_table', 'spec.result_path', 'spec.value_size',\n",
      "       'spec.write_result_to_disk', 'spec.index.leaf_size_in_pages'],\n",
      "      dtype='object')\n"
     ]
    }
   ],
   "source": [
    "# Walk all the json files and put them in a dataframe\n",
    "\n",
    "test_results = []\n",
    "for run in runs:\n",
    "    for test_result_file in os.listdir(run):\n",
    "        json_file = builtins.open(os.path.join(run, test_result_file))\n",
    "        test_result = json.load(json_file)\n",
    "        test_result['run'] = run\n",
    "        test_results.append(test_result)\n",
    "        json_file.close()\n",
    "test_dataframe = pd.json_normalize(test_results)\n",
    "print(test_dataframe.columns)\n",
    "\n",
    "        "
   ]
  },
  {
   "attachments": {},
   "cell_type": "markdown",
   "metadata": {},
   "source": [
    "# Reports"
   ]
  },
  {
   "attachments": {},
   "cell_type": "markdown",
   "metadata": {},
   "source": [
    "### Overall Duration"
   ]
  },
  {
   "cell_type": "code",
   "execution_count": 164,
   "metadata": {},
   "outputs": [
    {
     "name": "stdout",
     "output_type": "stream",
     "text": [
      "spec.algo_name   btree1024  btree2048  btree256  btree512   hashJoin  \\\n",
      "spec.common_key                                                        \n",
      "10                48183758   49442459  53673518  49180968  219008565   \n",
      "20                27977632   28379421  32053963  28994890  201621948   \n",
      "30                21052902   21266836  24600014  21982897  211452987   \n",
      "40                17667601   17722639  20912587  18874960  184065463   \n",
      "50                15378972   15418314  18586705  16333217  208041184   \n",
      "60                14161691   13971369  17098943  15013708  186681895   \n",
      "70                13081469   12810237  15937983  13884355  174617742   \n",
      "80                12242349   12180351  15165192  13088427  157458183   \n",
      "90                11655927   11376269  14185017  12704900  149363409   \n",
      "100               11133244   11123294  13572844  12101513  175720112   \n",
      "\n",
      "spec.algo_name    pgm1024    pgm128    pgm256    pgm512     pgm64        sj  \\\n",
      "spec.common_key                                                               \n",
      "10               27071914  29766873  26432791  26668194  30380227  73155598   \n",
      "20               17573773  18464623  17227657  17059292  20355778  65736727   \n",
      "30               14135584  15022327  14126558  13762041  16937742  63158118   \n",
      "40               12114718  13404185  12420001  12222322  15073629  61801877   \n",
      "50               11336163  12298105  11296779  11134209  14023930  61107491   \n",
      "60               10698413  11537964  10718753  10578089  13010260  60649819   \n",
      "70               10218628  11137307  10313823  10085736  12333269  60261577   \n",
      "80                9738310  10680258  10025735   9769159  11824160  60166425   \n",
      "90                9302207  10352392   9755757   9327759  11344858  59685364   \n",
      "100               9233780  10158086   9825339   9181745  10961300  57483584   \n",
      "\n",
      "spec.algo_name        sj2  \n",
      "spec.common_key            \n",
      "10               53451626  \n",
      "20               37029353  \n",
      "30               30839659  \n",
      "40               27392943  \n",
      "50               25495069  \n",
      "60               24287144  \n",
      "70               23157483  \n",
      "80               22238191  \n",
      "90               21797790  \n",
      "100              21358996  \n"
     ]
    }
   ],
   "source": [
    "overall_duration = test_dataframe.pivot_table(index='spec.common_key', columns='spec.algo_name', values='result.duration_ns', aggfunc='median')\n",
    "overall_duration.to_csv(os.path.join(csv_dir, 'duration_sec.csv'))\n",
    "print(overall_duration)"
   ]
  },
  {
   "cell_type": "code",
   "execution_count": 165,
   "metadata": {},
   "outputs": [
    {
     "name": "stdout",
     "output_type": "stream",
     "text": [
      "      indexes  memory_bytes\n",
      "0   btree1024       37072.0\n",
      "1   btree2048       12352.0\n",
      "2    btree256      131832.0\n",
      "3    btree512       70032.0\n",
      "4    hashJoin      161584.0\n",
      "5     pgm1024         152.0\n",
      "6      pgm128        3696.0\n",
      "7      pgm256        1000.0\n",
      "8      pgm512         312.0\n",
      "9       pgm64       13488.0\n",
      "10         sj      161584.0\n",
      "11        sj2      161584.0\n"
     ]
    }
   ],
   "source": [
    "inner_index_size = test_dataframe.pivot_table(index='spec.common_key', columns='spec.algo_name', values='result.inner_index_size', aggfunc='median')\n",
    "data = {}\n",
    "data['indexes'] = []\n",
    "data['memory_bytes'] = []\n",
    "for index in inner_index_size:\n",
    "    data['indexes'].append(index)\n",
    "    data['memory_bytes'].append(inner_index_size[index].mean())\n",
    "inner_index_size = pd.DataFrame(data=data)\n",
    "inner_index_size.to_csv(os.path.join(csv_dir, 'inner_index_size.csv'))\n",
    "print(inner_index_size)"
   ]
  },
  {
   "cell_type": "code",
   "execution_count": 166,
   "metadata": {},
   "outputs": [],
   "source": [
    "inner_index_build_duration = test_dataframe.pivot_table(index='spec.common_key', columns='spec.algo_name', values='result.inner_index_build_duration_ns', aggfunc='median')\n",
    "data = {}\n",
    "data['indexes'] = []\n",
    "data['build_duration'] = []\n",
    "for index in inner_index_build_duration:\n",
    "    data['indexes'].append(index)\n",
    "    data['build_duration'].append(inner_index_build_duration[index].mean())\n",
    "inner_index_build_duration = pd.DataFrame(data=data)\n",
    "inner_index_build_duration.to_csv(os.path.join(csv_dir, 'inner_index_build_duration_ns.csv'))"
   ]
  },
  {
   "cell_type": "code",
   "execution_count": 167,
   "metadata": {},
   "outputs": [
    {
     "name": "stdout",
     "output_type": "stream",
     "text": [
      "spec.algo_name   btree1024  btree2048  btree256  btree512  hashJoin  pgm1024  \\\n",
      "spec.common_key                                                                \n",
      "10                    1944        486      7773      3887      7774      864   \n",
      "20                    1944        486      7773      3887      7774      864   \n",
      "30                    1944        486      7771      3887      7774      864   \n",
      "40                    1944        486      7759      3887      7774      864   \n",
      "50                    1944        486      7723      3886      7774      864   \n",
      "60                    1944        486      7663      3886      7774      864   \n",
      "70                    1944        486      7576      3887      7774      864   \n",
      "80                    1944        486      7440      3880      7774      864   \n",
      "90                    1944        486      7326      3879      7774      864   \n",
      "100                   1944        486      7160      3860      7774      864   \n",
      "\n",
      "spec.algo_name   pgm128  pgm256  pgm512  pgm64    sj    sj2  \n",
      "spec.common_key                                              \n",
      "10                 3886    2591    1555   7765  7773  12881  \n",
      "20                 3883    2591    1555   7721  7773  13015  \n",
      "30                 3875    2589    1555   7622  7773  13299  \n",
      "40                 3861    2588    1555   7492  7773  13511  \n",
      "50                 3836    2583    1555   7315  7773  13892  \n",
      "60                 3815    2581    1554   7187  7773  14246  \n",
      "70                 3776    2571    1554   7002  7773  14582  \n",
      "80                 3752    2565    1553   6787  7773  15001  \n",
      "90                 3712    2559    1553   6618  7773  15263  \n",
      "100                3659    2548    1551   6425  7773  15534  \n"
     ]
    }
   ],
   "source": [
    "inner_index_fetch = test_dataframe.pivot_table(index='spec.common_key', columns='spec.algo_name', values='result.inner_disk_fetch', aggfunc='median')\n",
    "print(inner_index_fetch)"
   ]
  },
  {
   "cell_type": "code",
   "execution_count": 168,
   "metadata": {},
   "outputs": [
    {
     "name": "stdout",
     "output_type": "stream",
     "text": [
      "common_key: 10 checksum: ['3AEE37A7397FFD1C7241C4244A239156'] OK\n",
      "common_key: 20 checksum: ['D815BB1CE4DF453E2E3613FBC5353EE8'] OK\n",
      "common_key: 30 checksum: ['335E583B7853DC9BAEE09CE0DA61118E'] OK\n",
      "common_key: 40 checksum: ['551DBFF45F1B2DEE9ACA32C2A84C5CBD'] OK\n",
      "common_key: 50 checksum: ['0FB542B7155B8D61A2FE47A4C2E7BC6C'] OK\n",
      "common_key: 60 checksum: ['877B3D3B677FBF841110AA99D76C5D38'] OK\n",
      "common_key: 70 checksum: ['61B2F0607274D31841C30A2679F687BA'] OK\n",
      "common_key: 80 checksum: ['C618430BDC57794D14E321BDEE4BD4A9'] OK\n",
      "common_key: 90 checksum: ['2022A49803D73CB6B6674CAB9F46C57B'] OK\n",
      "common_key: 100 checksum: ['126B013F8833241E9558B8D0B1B7BBBA'] OK\n",
      "     spec.common_key spec.algo_name                   result.checksum\n",
      "83                40      btree1024  551DBFF45F1B2DEE9ACA32C2A84C5CBD\n",
      "203               40      btree1024  551DBFF45F1B2DEE9ACA32C2A84C5CBD\n",
      "323               40      btree1024  551DBFF45F1B2DEE9ACA32C2A84C5CBD\n",
      "66                40      btree2048  551DBFF45F1B2DEE9ACA32C2A84C5CBD\n",
      "186               40      btree2048  551DBFF45F1B2DEE9ACA32C2A84C5CBD\n",
      "306               40      btree2048  551DBFF45F1B2DEE9ACA32C2A84C5CBD\n",
      "82                40       btree256  551DBFF45F1B2DEE9ACA32C2A84C5CBD\n",
      "202               40       btree256  551DBFF45F1B2DEE9ACA32C2A84C5CBD\n",
      "322               40       btree256  551DBFF45F1B2DEE9ACA32C2A84C5CBD\n",
      "56                40       btree512  551DBFF45F1B2DEE9ACA32C2A84C5CBD\n",
      "176               40       btree512  551DBFF45F1B2DEE9ACA32C2A84C5CBD\n",
      "296               40       btree512  551DBFF45F1B2DEE9ACA32C2A84C5CBD\n",
      "86                40       hashJoin  551DBFF45F1B2DEE9ACA32C2A84C5CBD\n",
      "206               40       hashJoin  551DBFF45F1B2DEE9ACA32C2A84C5CBD\n",
      "326               40       hashJoin  551DBFF45F1B2DEE9ACA32C2A84C5CBD\n",
      "2                 40        pgm1024  551DBFF45F1B2DEE9ACA32C2A84C5CBD\n",
      "122               40        pgm1024  551DBFF45F1B2DEE9ACA32C2A84C5CBD\n",
      "242               40        pgm1024  551DBFF45F1B2DEE9ACA32C2A84C5CBD\n",
      "98                40         pgm128  551DBFF45F1B2DEE9ACA32C2A84C5CBD\n",
      "218               40         pgm128  551DBFF45F1B2DEE9ACA32C2A84C5CBD\n",
      "338               40         pgm128  551DBFF45F1B2DEE9ACA32C2A84C5CBD\n",
      "33                40         pgm256  551DBFF45F1B2DEE9ACA32C2A84C5CBD\n",
      "153               40         pgm256  551DBFF45F1B2DEE9ACA32C2A84C5CBD\n",
      "273               40         pgm256  551DBFF45F1B2DEE9ACA32C2A84C5CBD\n",
      "58                40         pgm512  551DBFF45F1B2DEE9ACA32C2A84C5CBD\n",
      "178               40         pgm512  551DBFF45F1B2DEE9ACA32C2A84C5CBD\n",
      "298               40         pgm512  551DBFF45F1B2DEE9ACA32C2A84C5CBD\n",
      "55                40          pgm64  551DBFF45F1B2DEE9ACA32C2A84C5CBD\n",
      "175               40          pgm64  551DBFF45F1B2DEE9ACA32C2A84C5CBD\n",
      "295               40          pgm64  551DBFF45F1B2DEE9ACA32C2A84C5CBD\n",
      "31                40             sj  551DBFF45F1B2DEE9ACA32C2A84C5CBD\n",
      "151               40             sj  551DBFF45F1B2DEE9ACA32C2A84C5CBD\n",
      "271               40             sj  551DBFF45F1B2DEE9ACA32C2A84C5CBD\n",
      "13                40            sj2  551DBFF45F1B2DEE9ACA32C2A84C5CBD\n",
      "133               40            sj2  551DBFF45F1B2DEE9ACA32C2A84C5CBD\n",
      "253               40            sj2  551DBFF45F1B2DEE9ACA32C2A84C5CBD\n",
      "['551DBFF45F1B2DEE9ACA32C2A84C5CBD']\n"
     ]
    }
   ],
   "source": [
    "result_checksum = (test_dataframe[['spec.common_key', 'spec.algo_name', 'result.checksum']].sort_values(by=['spec.common_key', 'spec.algo_name'])) #.loc[test_dataframe['spec.common_key']=='10'])\n",
    "for common_key in sorted(test_dataframe['spec.common_key'].unique()):\n",
    "    checksums = result_checksum.loc[result_checksum['spec.common_key'] == common_key]\n",
    "    unique_checksums = checksums['result.checksum'].unique()\n",
    "    if (len(unique_checksums) == 1):\n",
    "        print(f\"common_key: {common_key} checksum: {unique_checksums} OK\")\n",
    "    else:\n",
    "        print(f\"common_key: {common_key} checksums don't match\")\n",
    "print(result_checksum.loc[result_checksum['spec.common_key'] == 40])\n",
    "print(result_checksum.loc[result_checksum['spec.common_key'] == 40]['result.checksum'].unique())"
   ]
  }
 ],
 "metadata": {
  "kernelspec": {
   "display_name": "Python 3 (ipykernel)",
   "language": "python",
   "name": "python3"
  },
  "language_info": {
   "codemirror_mode": {
    "name": "ipython",
    "version": 3
   },
   "file_extension": ".py",
   "mimetype": "text/x-python",
   "name": "python",
   "nbconvert_exporter": "python",
   "pygments_lexer": "ipython3",
   "version": "3.8.10"
  },
  "orig_nbformat": 4
 },
 "nbformat": 4,
 "nbformat_minor": 2
}
