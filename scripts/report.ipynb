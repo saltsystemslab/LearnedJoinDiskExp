{
 "cells": [
  {
   "cell_type": "code",
   "execution_count": 36,
   "metadata": {},
   "outputs": [
    {
     "name": "stdout",
     "output_type": "stream",
     "text": [
      "['/home/chesetti/Repos/learned_merge_cleanup/sponge/books_join_small_1/outputs/results/run0', '/home/chesetti/Repos/learned_merge_cleanup/sponge/books_join_small_1/outputs/results/run1', '/home/chesetti/Repos/learned_merge_cleanup/sponge/books_join_small_1/outputs/results/run2']\n"
     ]
    }
   ],
   "source": [
    "import os;\n",
    "import json;\n",
    "import builtins\n",
    "import pandas as pd;\n",
    "\n",
    "dir = '/home/chesetti/Repos/learned_merge_cleanup/sponge'\n",
    "testcase = 'uniform_dense_join_small_1'\n",
    "test_dir = os.path.join(dir, testcase)\n",
    "results_dir = os.path.join(test_dir, 'outputs', 'results')\n",
    "csv_dir = os.path.join(test_dir, 'csv')\n",
    "os.makedirs(csv_dir, exist_ok=True)\n",
    "\n",
    "runs = [os.path.join(results_dir, run) for run in os.listdir(results_dir)]\n",
    "print(runs)"
   ]
  },
  {
   "cell_type": "code",
   "execution_count": 37,
   "metadata": {},
   "outputs": [
    {
     "name": "stdout",
     "output_type": "stream",
     "text": [
      "Index(['command', 'run', 'result.checksum', 'result.duration_ns',\n",
      "       'result.duration_sec', 'result.inner_disk_fetch',\n",
      "       'result.inner_index_build_duration_ns', 'result.inner_index_size',\n",
      "       'result.outer_disk_fetch', 'result.outer_index_build_duration',\n",
      "       'result.outer_index_size', 'spec.algo', 'spec.algo_name',\n",
      "       'spec.common_key', 'spec.index.type', 'spec.inner_table',\n",
      "       'spec.key_size', 'spec.key_type', 'spec.load_sstable_in_mem',\n",
      "       'spec.name', 'spec.num_threads', 'spec.outer_table', 'spec.result_path',\n",
      "       'spec.value_size', 'spec.write_result_to_disk',\n",
      "       'spec.index.leaf_size_in_pages'],\n",
      "      dtype='object')\n"
     ]
    }
   ],
   "source": [
    "# Walk all the json files and put them in a dataframe\n",
    "\n",
    "test_results = []\n",
    "for run in runs:\n",
    "    for test_result_file in os.listdir(run):\n",
    "        json_file = builtins.open(os.path.join(run, test_result_file))\n",
    "        test_result = json.load(json_file)\n",
    "        test_result['run'] = run\n",
    "        test_results.append(test_result)\n",
    "        json_file.close()\n",
    "test_dataframe = pd.json_normalize(test_results)\n",
    "print(test_dataframe.columns)\n",
    "\n",
    "        "
   ]
  },
  {
   "attachments": {},
   "cell_type": "markdown",
   "metadata": {},
   "source": [
    "# Reports"
   ]
  },
  {
   "attachments": {},
   "cell_type": "markdown",
   "metadata": {},
   "source": [
    "### Overall Duration"
   ]
  },
  {
   "cell_type": "code",
   "execution_count": 38,
   "metadata": {},
   "outputs": [
    {
     "name": "stdout",
     "output_type": "stream",
     "text": [
      "spec.algo_name   btree1024  btree2048  btree256  btree512  hash_join  \\\n",
      "spec.common_key                                                        \n",
      "10                37105567   32730542  35826760  40161801  100819522   \n",
      "20                16586303   28320466  36978270  17745191   98259199   \n",
      "30                14488076   21124485  23906286  21390075   97700430   \n",
      "40                12752240    9465462  20886244  12010865   90689329   \n",
      "50                14685209    8179007  10507388  13256389  104202647   \n",
      "60                 7135944   17042873  18855304  14341385   80095434   \n",
      "70                12280322    6130231   8519273  12104941   72683573   \n",
      "80                11603005   11583147  15499578  12824073   69899493   \n",
      "90                 6148973   35145956  14504118  12467808   65426349   \n",
      "100                7569759    5377094   7501290  30644811   76767513   \n",
      "\n",
      "spec.algo_name    pgm1024    pgm128    pgm256    pgm512     pgm64        sj  \\\n",
      "spec.common_key                                                               \n",
      "10               39523042  31955605  35570847  28168516  48608656  37092550   \n",
      "20               32497519  12054875  24017195  16827234  23682993  34679245   \n",
      "30               30401050  10588384  19783287  23377699   9639775  25363052   \n",
      "40               54811730  23315803  12492267  25772468   9721247  33182558   \n",
      "50               28560659  11122653  10053928  19776598  15598581  30365760   \n",
      "60               37549850   8603787   9888441  15482549  14404061  33707336   \n",
      "70               25558895   7235862   8192607   8773446  13486980  34831267   \n",
      "80               19081892  12293991   8561342  17704307  12637185  34008845   \n",
      "90               14908852   7926675  12850852  15845875  12333075  29537651   \n",
      "100              13795473  11368417   8183658  15655987   6425401  32180549   \n",
      "\n",
      "spec.algo_name        sj2  \n",
      "spec.common_key            \n",
      "10               38969121  \n",
      "20               28956162  \n",
      "30               34528573  \n",
      "40               33902096  \n",
      "50               32257459  \n",
      "60               27462476  \n",
      "70               32389279  \n",
      "80               28577348  \n",
      "90               33566021  \n",
      "100              28441766  \n"
     ]
    }
   ],
   "source": [
    "overall_duration = test_dataframe.pivot_table(index='spec.common_key', columns='spec.algo_name', values='result.duration_ns', aggfunc='median')\n",
    "overall_duration.to_csv(os.path.join(csv_dir, 'duration_sec.csv'))\n",
    "print(overall_duration)"
   ]
  },
  {
   "cell_type": "code",
   "execution_count": 39,
   "metadata": {},
   "outputs": [
    {
     "name": "stdout",
     "output_type": "stream",
     "text": [
      "     indexes  memory_bytes\n",
      "0  btree1024       20592.0\n",
      "1  btree2048        4120.0\n",
      "2   btree256       70032.0\n",
      "3   btree512       37072.0\n",
      "4    pgm1024         264.0\n",
      "5     pgm128         728.0\n",
      "6     pgm256         456.0\n",
      "7     pgm512         328.0\n",
      "8      pgm64        1696.0\n"
     ]
    }
   ],
   "source": [
    "inner_index_size = test_dataframe.pivot_table(index='spec.common_key', columns='spec.algo_name', values='result.inner_index_size', aggfunc='median')\n",
    "data = {}\n",
    "data['indexes'] = []\n",
    "data['memory_bytes'] = []\n",
    "for index in inner_index_size:\n",
    "    data['indexes'].append(index)\n",
    "    data['memory_bytes'].append(inner_index_size[index].mean())\n",
    "inner_index_size = pd.DataFrame(data=data)\n",
    "inner_index_size.to_csv(os.path.join(csv_dir, 'inner_index_size.csv'))\n",
    "print(inner_index_size)"
   ]
  },
  {
   "cell_type": "code",
   "execution_count": 40,
   "metadata": {},
   "outputs": [],
   "source": [
    "inner_index_build_duration = test_dataframe.pivot_table(index='spec.common_key', columns='spec.algo_name', values='result.inner_index_build_duration_ns', aggfunc='median')\n",
    "data = {}\n",
    "data['indexes'] = []\n",
    "data['build_duration'] = []\n",
    "for index in inner_index_build_duration:\n",
    "    data['indexes'].append(index)\n",
    "    data['build_duration'].append(inner_index_build_duration[index].mean())\n",
    "inner_index_build_duration = pd.DataFrame(data=data)\n",
    "inner_index_build_duration.to_csv(os.path.join(csv_dir, 'inner_index_build_duration_ns.csv'))"
   ]
  },
  {
   "cell_type": "code",
   "execution_count": 41,
   "metadata": {},
   "outputs": [
    {
     "name": "stdout",
     "output_type": "stream",
     "text": [
      "spec.algo_name   btree1024  btree2048  btree256  btree512  hash_join  pgm1024  \\\n",
      "spec.common_key                                                                 \n",
      "10                     976        244      3904      1952       3904     3900   \n",
      "20                     976        244      3904      1952       3904     3899   \n",
      "30                     976        244      3903      1952       3904     3897   \n",
      "40                     976        244      3898      1952       3904     3890   \n",
      "50                     976        244      3871      1952       3904     3873   \n",
      "60                     976        244      3852      1951       3904     3833   \n",
      "70                     976        244      3779      1951       3904     3792   \n",
      "80                     976        244      3728      1948       3904     3739   \n",
      "90                     976        244      3671      1947       3904     3679   \n",
      "100                    976        244      3589      1943       3904     3573   \n",
      "\n",
      "spec.algo_name   pgm128  pgm256  pgm512  pgm64    sj   sj2  \n",
      "spec.common_key                                             \n",
      "10                 3904    3903    3902   3904  3904  3904  \n",
      "20                 3904    3903    3902   3904  3904  3904  \n",
      "30                 3903    3902    3901   3904  3904  3904  \n",
      "40                 3895    3893    3897   3893  3904  3904  \n",
      "50                 3885    3870    3879   3880  3904  3904  \n",
      "60                 3848    3841    3836   3847  3904  3904  \n",
      "70                 3797    3793    3793   3806  3904  3904  \n",
      "80                 3742    3738    3733   3734  3904  3904  \n",
      "90                 3678    3684    3668   3662  3904  3904  \n",
      "100                3603    3577    3582   3602  3904  3904  \n"
     ]
    }
   ],
   "source": [
    "inner_index_fetch = test_dataframe.pivot_table(index='spec.common_key', columns='spec.algo_name', values='result.inner_disk_fetch', aggfunc='median')\n",
    "print(inner_index_fetch)"
   ]
  },
  {
   "cell_type": "code",
   "execution_count": 42,
   "metadata": {},
   "outputs": [
    {
     "name": "stdout",
     "output_type": "stream",
     "text": [
      "common_key: 10 checksum: ['9A0745C81F145039CC08E6DB20692E2F'] OK\n",
      "common_key: 20 checksum: ['56A3B5D3D032A2AFD0741AB3EFA352E7'] OK\n",
      "common_key: 30 checksum: ['0893DFC694E5CD10E330D39C93759503'] OK\n",
      "common_key: 40 checksum: ['14D73137C48284B02B60E9E08A43CB2F'] OK\n",
      "common_key: 50 checksum: ['A8A4696F23CC2BAC931535A5158A2B4A'] OK\n",
      "common_key: 60 checksum: ['03F103D5B3908B242D7CBA89DA092627'] OK\n",
      "common_key: 70 checksum: ['F88FC70D71930F1B047A3CD00951DB70'] OK\n",
      "common_key: 80 checksum: ['C1A4FFD2B3EEBDF69D43F96070106B60'] OK\n",
      "common_key: 90 checksum: ['27B292B921D1544D3291C5467954C940'] OK\n",
      "common_key: 100 checksum: ['36CD418404FA814E2B289C7C68A31C54'] OK\n",
      "     spec.common_key spec.algo_name                   result.checksum\n",
      "105               30      btree1024  0893DFC694E5CD10E330D39C93759503\n",
      "225               30      btree1024  0893DFC694E5CD10E330D39C93759503\n",
      "345               30      btree1024  0893DFC694E5CD10E330D39C93759503\n",
      "111               30      btree2048  0893DFC694E5CD10E330D39C93759503\n",
      "231               30      btree2048  0893DFC694E5CD10E330D39C93759503\n",
      "351               30      btree2048  0893DFC694E5CD10E330D39C93759503\n",
      "76                30       btree256  0893DFC694E5CD10E330D39C93759503\n",
      "196               30       btree256  0893DFC694E5CD10E330D39C93759503\n",
      "316               30       btree256  0893DFC694E5CD10E330D39C93759503\n",
      "35                30       btree512  0893DFC694E5CD10E330D39C93759503\n",
      "155               30       btree512  0893DFC694E5CD10E330D39C93759503\n",
      "275               30       btree512  0893DFC694E5CD10E330D39C93759503\n",
      "63                30      hash_join  0893DFC694E5CD10E330D39C93759503\n",
      "183               30      hash_join  0893DFC694E5CD10E330D39C93759503\n",
      "303               30      hash_join  0893DFC694E5CD10E330D39C93759503\n",
      "10                30        pgm1024  0893DFC694E5CD10E330D39C93759503\n",
      "130               30        pgm1024  0893DFC694E5CD10E330D39C93759503\n",
      "250               30        pgm1024  0893DFC694E5CD10E330D39C93759503\n",
      "68                30         pgm128  0893DFC694E5CD10E330D39C93759503\n",
      "188               30         pgm128  0893DFC694E5CD10E330D39C93759503\n",
      "308               30         pgm128  0893DFC694E5CD10E330D39C93759503\n",
      "91                30         pgm256  0893DFC694E5CD10E330D39C93759503\n",
      "211               30         pgm256  0893DFC694E5CD10E330D39C93759503\n",
      "331               30         pgm256  0893DFC694E5CD10E330D39C93759503\n",
      "59                30         pgm512  0893DFC694E5CD10E330D39C93759503\n",
      "179               30         pgm512  0893DFC694E5CD10E330D39C93759503\n",
      "299               30         pgm512  0893DFC694E5CD10E330D39C93759503\n",
      "34                30          pgm64  0893DFC694E5CD10E330D39C93759503\n",
      "154               30          pgm64  0893DFC694E5CD10E330D39C93759503\n",
      "274               30          pgm64  0893DFC694E5CD10E330D39C93759503\n",
      "118               30             sj  0893DFC694E5CD10E330D39C93759503\n",
      "238               30             sj  0893DFC694E5CD10E330D39C93759503\n",
      "358               30             sj  0893DFC694E5CD10E330D39C93759503\n",
      "45                30            sj2  0893DFC694E5CD10E330D39C93759503\n",
      "165               30            sj2  0893DFC694E5CD10E330D39C93759503\n",
      "285               30            sj2  0893DFC694E5CD10E330D39C93759503\n",
      "['0893DFC694E5CD10E330D39C93759503']\n"
     ]
    }
   ],
   "source": [
    "result_checksum = (test_dataframe[['spec.common_key', 'spec.algo_name', 'result.checksum']].sort_values(by=['spec.common_key', 'spec.algo_name'])) #.loc[test_dataframe['spec.common_key']=='10'])\n",
    "for common_key in sorted(test_dataframe['spec.common_key'].unique()):\n",
    "    checksums = result_checksum.loc[result_checksum['spec.common_key'] == common_key]\n",
    "    unique_checksums = checksums['result.checksum'].unique()\n",
    "    if (len(unique_checksums) == 1):\n",
    "        print(f\"common_key: {common_key} checksum: {unique_checksums} OK\")\n",
    "    else:\n",
    "        print(f\"common_key: {common_key} checksums don't match\")\n",
    "print(result_checksum.loc[result_checksum['spec.common_key'] == 30])\n",
    "print(result_checksum.loc[result_checksum['spec.common_key'] == 30]['result.checksum'].unique())"
   ]
  }
 ],
 "metadata": {
  "kernelspec": {
   "display_name": "Python 3 (ipykernel)",
   "language": "python",
   "name": "python3"
  },
  "language_info": {
   "codemirror_mode": {
    "name": "ipython",
    "version": 3
   },
   "file_extension": ".py",
   "mimetype": "text/x-python",
   "name": "python",
   "nbconvert_exporter": "python",
   "pygments_lexer": "ipython3",
   "version": "3.8.10"
  },
  "orig_nbformat": 4
 },
 "nbformat": 4,
 "nbformat_minor": 2
}
